{
 "cells": [
  {
   "cell_type": "code",
   "execution_count": 14,
   "metadata": {},
   "outputs": [],
   "source": [
    "import pandas as pd\n",
    "import numpy as np\n",
    "from matplotlib import pyplot as plt\n",
    "from scipy import stats\n",
    "import seaborn as sns\n",
    "import statsmodels.api as sm\n",
    "from sklearn import linear_model\n",
    "import statsmodels.stats.power as smp"
   ]
  },
  {
   "cell_type": "code",
   "execution_count": 15,
   "metadata": {},
   "outputs": [
    {
     "data": {
      "text/html": [
       "<div>\n",
       "<style scoped>\n",
       "    .dataframe tbody tr th:only-of-type {\n",
       "        vertical-align: middle;\n",
       "    }\n",
       "\n",
       "    .dataframe tbody tr th {\n",
       "        vertical-align: top;\n",
       "    }\n",
       "\n",
       "    .dataframe thead th {\n",
       "        text-align: right;\n",
       "    }\n",
       "</style>\n",
       "<table border=\"1\" class=\"dataframe\">\n",
       "  <thead>\n",
       "    <tr style=\"text-align: right;\">\n",
       "      <th></th>\n",
       "      <th>movie_name</th>\n",
       "      <th>genres</th>\n",
       "      <th>percentage_ROI_gross_budget</th>\n",
       "      <th>gross</th>\n",
       "      <th>budget</th>\n",
       "      <th>opening_weekend_boxoffice</th>\n",
       "      <th>average_rating</th>\n",
       "      <th>number_vote</th>\n",
       "      <th>primary_name</th>\n",
       "      <th>primary_profession</th>\n",
       "      <th>release_date</th>\n",
       "      <th>release_year</th>\n",
       "      <th>runtime_minutes</th>\n",
       "      <th>distributor</th>\n",
       "      <th>max_theatre_count</th>\n",
       "    </tr>\n",
       "  </thead>\n",
       "  <tbody>\n",
       "    <tr>\n",
       "      <th>0</th>\n",
       "      <td>alice in wonderland</td>\n",
       "      <td>adventure,family,fantasy</td>\n",
       "      <td>167.10</td>\n",
       "      <td>334191110.0</td>\n",
       "      <td>200000000.0</td>\n",
       "      <td>116101023.0</td>\n",
       "      <td>6.25</td>\n",
       "      <td>179407.0</td>\n",
       "      <td>Lewis Carroll</td>\n",
       "      <td>writer,soundtrack,miscellaneous</td>\n",
       "      <td>2010-01-01 00:00:00</td>\n",
       "      <td>2010</td>\n",
       "      <td>108.0</td>\n",
       "      <td>Walt Disney</td>\n",
       "      <td>3,739</td>\n",
       "    </tr>\n",
       "    <tr>\n",
       "      <th>1</th>\n",
       "      <td>ca$h</td>\n",
       "      <td>crime,thriller</td>\n",
       "      <td>0.66</td>\n",
       "      <td>46488.0</td>\n",
       "      <td>7000000.0</td>\n",
       "      <td>16469.0</td>\n",
       "      <td>5.90</td>\n",
       "      <td>4358.0</td>\n",
       "      <td>Stephen Milburn Anderson</td>\n",
       "      <td>producer,writer,production_manager</td>\n",
       "      <td>2010-01-01 00:00:00</td>\n",
       "      <td>2010</td>\n",
       "      <td>108.0</td>\n",
       "      <td>Roadside …</td>\n",
       "      <td>43</td>\n",
       "    </tr>\n",
       "    <tr>\n",
       "      <th>2</th>\n",
       "      <td>8: the mormon proposition</td>\n",
       "      <td>documentary</td>\n",
       "      <td>4.01</td>\n",
       "      <td>100280.0</td>\n",
       "      <td>2500000.0</td>\n",
       "      <td>42566.0</td>\n",
       "      <td>6.60</td>\n",
       "      <td>600.0</td>\n",
       "      <td>Reed Cowan</td>\n",
       "      <td>producer,director,writer</td>\n",
       "      <td>2010-01-01 00:00:00</td>\n",
       "      <td>2010</td>\n",
       "      <td>80.0</td>\n",
       "      <td>Red Flag …</td>\n",
       "      <td>16</td>\n",
       "    </tr>\n",
       "    <tr>\n",
       "      <th>3</th>\n",
       "      <td>the gift</td>\n",
       "      <td>documentary</td>\n",
       "      <td>875.75</td>\n",
       "      <td>43787265.0</td>\n",
       "      <td>5000000.0</td>\n",
       "      <td>11854273.0</td>\n",
       "      <td>8.30</td>\n",
       "      <td>23.0</td>\n",
       "      <td>Dave Hagen</td>\n",
       "      <td>editor,animation_department,producer</td>\n",
       "      <td>2010-01-01 00:00:00</td>\n",
       "      <td>2010</td>\n",
       "      <td>105.0</td>\n",
       "      <td>STX Enter…</td>\n",
       "      <td>2,503</td>\n",
       "    </tr>\n",
       "    <tr>\n",
       "      <th>4</th>\n",
       "      <td>your highness</td>\n",
       "      <td>adventure,comedy,fantasy</td>\n",
       "      <td>43.19</td>\n",
       "      <td>21596445.0</td>\n",
       "      <td>50000000.0</td>\n",
       "      <td>9360020.0</td>\n",
       "      <td>4.25</td>\n",
       "      <td>46472.0</td>\n",
       "      <td>Ben Best</td>\n",
       "      <td>writer,actor,producer</td>\n",
       "      <td>2010-01-01 00:00:00</td>\n",
       "      <td>2011</td>\n",
       "      <td>102.0</td>\n",
       "      <td>Universal</td>\n",
       "      <td>2,772</td>\n",
       "    </tr>\n",
       "    <tr>\n",
       "      <th>...</th>\n",
       "      <td>...</td>\n",
       "      <td>...</td>\n",
       "      <td>...</td>\n",
       "      <td>...</td>\n",
       "      <td>...</td>\n",
       "      <td>...</td>\n",
       "      <td>...</td>\n",
       "      <td>...</td>\n",
       "      <td>...</td>\n",
       "      <td>...</td>\n",
       "      <td>...</td>\n",
       "      <td>...</td>\n",
       "      <td>...</td>\n",
       "      <td>...</td>\n",
       "      <td>...</td>\n",
       "    </tr>\n",
       "    <tr>\n",
       "      <th>1285</th>\n",
       "      <td>on the basis of sex</td>\n",
       "      <td>biography,drama</td>\n",
       "      <td>123.11</td>\n",
       "      <td>24622687.0</td>\n",
       "      <td>20000000.0</td>\n",
       "      <td>686355.0</td>\n",
       "      <td>7.15</td>\n",
       "      <td>6154.0</td>\n",
       "      <td>Daniel Stiepleman</td>\n",
       "      <td>writer,art_department,art_director</td>\n",
       "      <td>2018-12-25 00:00:00</td>\n",
       "      <td>2018</td>\n",
       "      <td>120.0</td>\n",
       "      <td>Focus Fea…</td>\n",
       "      <td>1,957</td>\n",
       "    </tr>\n",
       "    <tr>\n",
       "      <th>1286</th>\n",
       "      <td>holmes &amp; watson</td>\n",
       "      <td>adventure,comedy,crime</td>\n",
       "      <td>72.78</td>\n",
       "      <td>30568743.0</td>\n",
       "      <td>42000000.0</td>\n",
       "      <td>7411522.0</td>\n",
       "      <td>3.95</td>\n",
       "      <td>8939.0</td>\n",
       "      <td>Arthur Conan Doyle</td>\n",
       "      <td>writer,producer,actor</td>\n",
       "      <td>2018-12-25 00:00:00</td>\n",
       "      <td>2018</td>\n",
       "      <td>90.0</td>\n",
       "      <td>Sony Pict…</td>\n",
       "      <td>2,780</td>\n",
       "    </tr>\n",
       "    <tr>\n",
       "      <th>1287</th>\n",
       "      <td>destroyer</td>\n",
       "      <td>action,crime,drama</td>\n",
       "      <td>17.04</td>\n",
       "      <td>1533324.0</td>\n",
       "      <td>9000000.0</td>\n",
       "      <td>55347.0</td>\n",
       "      <td>6.05</td>\n",
       "      <td>6929.0</td>\n",
       "      <td>Phil Hay</td>\n",
       "      <td>writer,producer,actor</td>\n",
       "      <td>2018-12-25 00:00:00</td>\n",
       "      <td>2018</td>\n",
       "      <td>121.0</td>\n",
       "      <td>Annapurna…</td>\n",
       "      <td>235</td>\n",
       "    </tr>\n",
       "    <tr>\n",
       "      <th>1288</th>\n",
       "      <td>the upside</td>\n",
       "      <td>comedy,drama</td>\n",
       "      <td>288.63</td>\n",
       "      <td>108235497.0</td>\n",
       "      <td>37500000.0</td>\n",
       "      <td>20355000.0</td>\n",
       "      <td>7.00</td>\n",
       "      <td>12221.0</td>\n",
       "      <td>Olivier Nakache</td>\n",
       "      <td>writer,director,producer</td>\n",
       "      <td>2019-01-11 00:00:00</td>\n",
       "      <td>2017</td>\n",
       "      <td>126.0</td>\n",
       "      <td>STX Enter…</td>\n",
       "      <td>3,568</td>\n",
       "    </tr>\n",
       "    <tr>\n",
       "      <th>1289</th>\n",
       "      <td>el chicano</td>\n",
       "      <td>drama</td>\n",
       "      <td>8.75</td>\n",
       "      <td>700261.0</td>\n",
       "      <td>8000000.0</td>\n",
       "      <td>703663.0</td>\n",
       "      <td>7.35</td>\n",
       "      <td>145.0</td>\n",
       "      <td>Ben Hernandez Bray</td>\n",
       "      <td>stunts,actor,assistant_director</td>\n",
       "      <td>2019-05-03 00:00:00</td>\n",
       "      <td>2018</td>\n",
       "      <td>108.0</td>\n",
       "      <td>Briarclif…</td>\n",
       "      <td>605</td>\n",
       "    </tr>\n",
       "  </tbody>\n",
       "</table>\n",
       "<p>1290 rows × 15 columns</p>\n",
       "</div>"
      ],
      "text/plain": [
       "                     movie_name                    genres  \\\n",
       "0           alice in wonderland  adventure,family,fantasy   \n",
       "1                          ca$h            crime,thriller   \n",
       "2     8: the mormon proposition               documentary   \n",
       "3                      the gift               documentary   \n",
       "4                 your highness  adventure,comedy,fantasy   \n",
       "...                         ...                       ...   \n",
       "1285        on the basis of sex           biography,drama   \n",
       "1286            holmes & watson    adventure,comedy,crime   \n",
       "1287                  destroyer        action,crime,drama   \n",
       "1288                 the upside              comedy,drama   \n",
       "1289                 el chicano                     drama   \n",
       "\n",
       "      percentage_ROI_gross_budget        gross       budget  \\\n",
       "0                          167.10  334191110.0  200000000.0   \n",
       "1                            0.66      46488.0    7000000.0   \n",
       "2                            4.01     100280.0    2500000.0   \n",
       "3                          875.75   43787265.0    5000000.0   \n",
       "4                           43.19   21596445.0   50000000.0   \n",
       "...                           ...          ...          ...   \n",
       "1285                       123.11   24622687.0   20000000.0   \n",
       "1286                        72.78   30568743.0   42000000.0   \n",
       "1287                        17.04    1533324.0    9000000.0   \n",
       "1288                       288.63  108235497.0   37500000.0   \n",
       "1289                         8.75     700261.0    8000000.0   \n",
       "\n",
       "      opening_weekend_boxoffice  average_rating  number_vote  \\\n",
       "0                   116101023.0            6.25     179407.0   \n",
       "1                       16469.0            5.90       4358.0   \n",
       "2                       42566.0            6.60        600.0   \n",
       "3                    11854273.0            8.30         23.0   \n",
       "4                     9360020.0            4.25      46472.0   \n",
       "...                         ...             ...          ...   \n",
       "1285                   686355.0            7.15       6154.0   \n",
       "1286                  7411522.0            3.95       8939.0   \n",
       "1287                    55347.0            6.05       6929.0   \n",
       "1288                 20355000.0            7.00      12221.0   \n",
       "1289                   703663.0            7.35        145.0   \n",
       "\n",
       "                  primary_name                    primary_profession  \\\n",
       "0                Lewis Carroll       writer,soundtrack,miscellaneous   \n",
       "1     Stephen Milburn Anderson    producer,writer,production_manager   \n",
       "2                   Reed Cowan              producer,director,writer   \n",
       "3                   Dave Hagen  editor,animation_department,producer   \n",
       "4                     Ben Best                 writer,actor,producer   \n",
       "...                        ...                                   ...   \n",
       "1285         Daniel Stiepleman    writer,art_department,art_director   \n",
       "1286        Arthur Conan Doyle                 writer,producer,actor   \n",
       "1287                  Phil Hay                 writer,producer,actor   \n",
       "1288           Olivier Nakache              writer,director,producer   \n",
       "1289        Ben Hernandez Bray       stunts,actor,assistant_director   \n",
       "\n",
       "             release_date  release_year  runtime_minutes  distributor  \\\n",
       "0     2010-01-01 00:00:00          2010            108.0  Walt Disney   \n",
       "1     2010-01-01 00:00:00          2010            108.0   Roadside …   \n",
       "2     2010-01-01 00:00:00          2010             80.0   Red Flag …   \n",
       "3     2010-01-01 00:00:00          2010            105.0   STX Enter…   \n",
       "4     2010-01-01 00:00:00          2011            102.0    Universal   \n",
       "...                   ...           ...              ...          ...   \n",
       "1285  2018-12-25 00:00:00          2018            120.0   Focus Fea…   \n",
       "1286  2018-12-25 00:00:00          2018             90.0   Sony Pict…   \n",
       "1287  2018-12-25 00:00:00          2018            121.0   Annapurna…   \n",
       "1288  2019-01-11 00:00:00          2017            126.0   STX Enter…   \n",
       "1289  2019-05-03 00:00:00          2018            108.0   Briarclif…   \n",
       "\n",
       "     max_theatre_count  \n",
       "0                3,739  \n",
       "1                   43  \n",
       "2                   16  \n",
       "3                2,503  \n",
       "4                2,772  \n",
       "...                ...  \n",
       "1285             1,957  \n",
       "1286             2,780  \n",
       "1287               235  \n",
       "1288             3,568  \n",
       "1289               605  \n",
       "\n",
       "[1290 rows x 15 columns]"
      ]
     },
     "execution_count": 15,
     "metadata": {},
     "output_type": "execute_result"
    }
   ],
   "source": [
    "master_final_df = pd.read_csv('master_dedup_v2.csv')\n",
    "master_final_df"
   ]
  },
  {
   "cell_type": "code",
   "execution_count": 16,
   "metadata": {},
   "outputs": [
    {
     "data": {
      "text/plain": [
       "Index(['movie_name', 'genres', 'percentage_ROI_gross_budget', 'gross',\n",
       "       'budget', 'opening_weekend_boxoffice', 'average_rating', 'number_vote',\n",
       "       'primary_name', 'primary_profession', 'release_date', 'release_year',\n",
       "       'runtime_minutes', 'distributor', 'max_theatre_count'],\n",
       "      dtype='object')"
      ]
     },
     "execution_count": 16,
     "metadata": {},
     "output_type": "execute_result"
    }
   ],
   "source": [
    "master_final_df.columns"
   ]
  },
  {
   "cell_type": "markdown",
   "metadata": {},
   "source": [
    "## Two Sample T-Test: One-tailed\n",
    "\n",
    "**Null Hypothesis:** The mean ROI of horror movies is less than or equal to that of non-horror movies.\n",
    "\n",
    "**Alternative Hypothesis:** The mean ROI of horror movies is greater than that of non-horror movies.\n"
   ]
  },
  {
   "cell_type": "code",
   "execution_count": 17,
   "metadata": {},
   "outputs": [
    {
     "name": "stdout",
     "output_type": "stream",
     "text": [
      "<class 'pandas.core.frame.DataFrame'>\n",
      "Int64Index: 150 entries, 11 to 1275\n",
      "Data columns (total 15 columns):\n",
      " #   Column                       Non-Null Count  Dtype  \n",
      "---  ------                       --------------  -----  \n",
      " 0   movie_name                   150 non-null    object \n",
      " 1   genres                       150 non-null    object \n",
      " 2   percentage_ROI_gross_budget  150 non-null    float64\n",
      " 3   gross                        150 non-null    float64\n",
      " 4   budget                       150 non-null    float64\n",
      " 5   opening_weekend_boxoffice    150 non-null    float64\n",
      " 6   average_rating               150 non-null    float64\n",
      " 7   number_vote                  150 non-null    float64\n",
      " 8   primary_name                 150 non-null    object \n",
      " 9   primary_profession           150 non-null    object \n",
      " 10  release_date                 150 non-null    object \n",
      " 11  release_year                 150 non-null    int64  \n",
      " 12  runtime_minutes              150 non-null    float64\n",
      " 13  distributor                  150 non-null    object \n",
      " 14  max_theatre_count            150 non-null    object \n",
      "dtypes: float64(7), int64(1), object(7)\n",
      "memory usage: 18.8+ KB\n"
     ]
    }
   ],
   "source": [
    "# Split data into two groups (samples)\n",
    "horror_movies = master_final_df[master_final_df['genres'].str.contains('horror', case=False, regex=True)]\n",
    "non_horror_movies = master_final_df[~master_final_df['genres'].str.contains('horror', case=False, regex=True)]\n",
    "\n",
    "# Sanity check\n",
    "horror_movies.info()"
   ]
  },
  {
   "cell_type": "code",
   "execution_count": 18,
   "metadata": {},
   "outputs": [
    {
     "name": "stdout",
     "output_type": "stream",
     "text": [
      "<class 'pandas.core.frame.DataFrame'>\n",
      "Int64Index: 1140 entries, 0 to 1289\n",
      "Data columns (total 15 columns):\n",
      " #   Column                       Non-Null Count  Dtype  \n",
      "---  ------                       --------------  -----  \n",
      " 0   movie_name                   1140 non-null   object \n",
      " 1   genres                       1140 non-null   object \n",
      " 2   percentage_ROI_gross_budget  1140 non-null   float64\n",
      " 3   gross                        1140 non-null   float64\n",
      " 4   budget                       1140 non-null   float64\n",
      " 5   opening_weekend_boxoffice    1140 non-null   float64\n",
      " 6   average_rating               1140 non-null   float64\n",
      " 7   number_vote                  1140 non-null   float64\n",
      " 8   primary_name                 1140 non-null   object \n",
      " 9   primary_profession           1140 non-null   object \n",
      " 10  release_date                 1140 non-null   object \n",
      " 11  release_year                 1140 non-null   int64  \n",
      " 12  runtime_minutes              1140 non-null   float64\n",
      " 13  distributor                  1140 non-null   object \n",
      " 14  max_theatre_count            1140 non-null   object \n",
      "dtypes: float64(7), int64(1), object(7)\n",
      "memory usage: 142.5+ KB\n"
     ]
    }
   ],
   "source": [
    "# Sanity check\n",
    "non_horror_movies.info()"
   ]
  },
  {
   "cell_type": "markdown",
   "metadata": {},
   "source": [
    "### Interpretation of Two-Sample T-Test (One-Tailed)\n",
    "\n",
    "The result of this analysis indicates that there is a 95% chance that the mean ROI of horror movies is significantly greater than the mean ROI of non-horror movies. \n"
   ]
  },
  {
   "cell_type": "code",
   "execution_count": 19,
   "metadata": {},
   "outputs": [
    {
     "name": "stdout",
     "output_type": "stream",
     "text": [
      "T-statistic: 2.890674145719811\n",
      "P-value: 0.0044170715085292\n",
      "Result: Reject the null hypothesis\n"
     ]
    }
   ],
   "source": [
    "# Set the significance level\n",
    "alpha = 0.05\n",
    "\n",
    "# Perform a two-sample t-test to compare the mean 'ROI' of horror and non-horror movies\n",
    "t_statistic, p_value = stats.ttest_ind(horror_movies['percentage_ROI_gross_budget'], non_horror_movies['percentage_ROI_gross_budget'], equal_var=False)\n",
    "\n",
    "\n",
    "# Determine whether to reject the null\n",
    "if p_value < alpha and t_statistic < 0:  \n",
    "    result = 'Reject the null hypothesis'\n",
    "    \n",
    "elif p_value < alpha and t_statistic > 0:  \n",
    "    result = 'Reject the null hypothesis'\n",
    "else:\n",
    "    result = 'Fail to reject the null hypothesis'\n",
    "\n",
    "\n",
    "# Display the results\n",
    "print(f'T-statistic: {t_statistic}')\n",
    "print(f'P-value: {p_value}')\n",
    "print(f'Result: {result}')\n"
   ]
  },
  {
   "cell_type": "markdown",
   "metadata": {},
   "source": [
    "## Power Analysis of Two-Sample T-Test"
   ]
  },
  {
   "cell_type": "code",
   "execution_count": 20,
   "metadata": {},
   "outputs": [
    {
     "data": {
      "text/plain": [
       "percentage_ROI_gross_budget    0.236238\n",
       "gross                         -0.625812\n",
       "budget                        -0.983670\n",
       "opening_weekend_boxoffice     -0.287577\n",
       "average_rating                -0.836163\n",
       "number_vote                   -0.624201\n",
       "release_year                   0.042969\n",
       "runtime_minutes               -0.962788\n",
       "dtype: float64"
      ]
     },
     "execution_count": 20,
     "metadata": {},
     "output_type": "execute_result"
    }
   ],
   "source": [
    "# Determine effect size using Cohen's d for a two-sample test\n",
    "\n",
    "horror_mean =  horror_movies.mean()\n",
    "non_horror_mean =  non_horror_movies.mean()\n",
    "horror_std =   horror_movies.std()\n",
    "non_horror_std =   horror_movies.std()\n",
    "\n",
    "horror_sample = 150\n",
    "non_horror_sample = 1140\n",
    "\n",
    "# Calculate pooled standard deviation\n",
    "pooled_std = np.sqrt(((horror_sample - 1) * horror_std**2 + (non_horror_sample - 1) * non_horror_std**2) / (horror_sample + non_horror_sample - 2))\n",
    "\n",
    "# Calculate Cohen's d\n",
    "effect_sizes = (horror_mean - non_horror_mean) / pooled_std\n",
    "\n",
    "effect_sizes\n"
   ]
  },
  {
   "cell_type": "code",
   "execution_count": 21,
   "metadata": {},
   "outputs": [
    {
     "name": "stdout",
     "output_type": "stream",
     "text": [
      "Statistical Power: 0.775748283470764\n"
     ]
    }
   ],
   "source": [
    "# Set the parameters for the power analysis\n",
    "effect_size = .236238  # Set effect_size according to Cohen's d calculation\n",
    "alpha = 0.05  # Set significance level\n",
    "alternative = 'two-sided'\n",
    "\n",
    "# Perform the power analysis with given sample sizes\n",
    "analysis = smp.TTestIndPower()\n",
    "result = analysis.solve_power(effect_size=effect_size, alpha=alpha, nobs1=horror_sample, ratio=non_horror_sample/horror_sample, alternative=alternative)\n",
    "\n",
    "print(f'Statistical Power: {result}')\n"
   ]
  },
  {
   "cell_type": "markdown",
   "metadata": {},
   "source": [
    "### Interpretation of Power Analysis\n",
    "\n",
    "A statistical power of 0.7757 means that there is a 77.57% chance that if there is a real difference or effect between the horror ROI and non_horror ROI, our test will detect it. This is a reasonably good statistical power and we are slightly reducing the risk of a Type II error (false-negative)."
   ]
  },
  {
   "cell_type": "markdown",
   "metadata": {},
   "source": [
    "## Multiple Linear Regression Model\n",
    "\n",
    "### Independent Variables\n",
    "\n",
    "**Null Hypothesis:** The variables have no effect on ROI, and their coefficients are equal to zero.\n",
    "\n",
    "**Alternative Hypothesis:** The variables have an effect on ROI, and their coefficients are not equal to zero.\n",
    "\n",
    "\n",
    "### Dependent Variable\n",
    "\n",
    "**Null Hypothesis:** The intercept represents a baseline ROI when all independent variables are zero.\n",
    "\n",
    "**Alternative Hypothesis:** The intercept does not represent a meaningful baseline ROI when all independent variables are zero.\n"
   ]
  },
  {
   "cell_type": "code",
   "execution_count": 22,
   "metadata": {},
   "outputs": [
    {
     "data": {
      "image/png": "[encoded data removed]",
      "text/plain": [
       "<Figure size 432x288 with 1 Axes>"
      ]
     },
     "metadata": {
      "needs_background": "light"
     },
     "output_type": "display_data"
    },
    {
     "name": "stdout",
     "output_type": "stream",
     "text": [
      "                                 OLS Regression Results                                \n",
      "=======================================================================================\n",
      "Dep. Variable:     percentage_ROI_gross_budget   R-squared:                       0.020\n",
      "Model:                                     OLS   Adj. R-squared:                  0.018\n",
      "Method:                          Least Squares   F-statistic:                     8.800\n",
      "Date:                         Wed, 25 Oct 2023   Prob (F-statistic):           8.90e-06\n",
      "Time:                                 19:09:13   Log-Likelihood:                -10336.\n",
      "No. Observations:                         1290   AIC:                         2.068e+04\n",
      "Df Residuals:                             1286   BIC:                         2.070e+04\n",
      "Df Model:                                    3                                         \n",
      "Covariance Type:                     nonrobust                                         \n",
      "==================================================================================\n",
      "                     coef    std err          t      P>|t|      [0.025      0.975]\n",
      "----------------------------------------------------------------------------------\n",
      "const            518.0879    158.837      3.262      0.001     206.479     829.697\n",
      "budget         -2.149e-06   4.25e-07     -5.053      0.000   -2.98e-06   -1.31e-06\n",
      "average_rating   -40.4217     25.925     -1.559      0.119     -91.282      10.439\n",
      "number_vote        0.0010      0.000      3.244      0.001       0.000       0.002\n",
      "==============================================================================\n",
      "Omnibus:                     3102.785   Durbin-Watson:                   1.926\n",
      "Prob(Omnibus):                  0.000   Jarque-Bera (JB):         25716739.535\n",
      "Skew:                          23.305   Prob(JB):                         0.00\n",
      "Kurtosis:                     693.129   Cond. No.                     5.87e+08\n",
      "==============================================================================\n",
      "\n",
      "Notes:\n",
      "[1] Standard Errors assume that the covariance matrix of the errors is correctly specified.\n",
      "[2] The condition number is large, 5.87e+08. This might indicate that there are\n",
      "strong multicollinearity or other numerical problems.\n"
     ]
    }
   ],
   "source": [
    "# Add constant intercept to variables\n",
    "X = sm.add_constant(master_final_df[['budget', 'average_rating', 'number_vote']])\n",
    "\n",
    "# Dependent variable\n",
    "y = master_final_df['percentage_ROI_gross_budget']\n",
    "\n",
    "# Apply fit test to model\n",
    "model = sm.OLS(y, X).fit()\n",
    "\n",
    "# Predicted values from model\n",
    "predicted_values = model.predict(X)\n",
    "\n",
    "# Create a scatter plot of observed vs. predicted ROI values\n",
    "plt.scatter(y, predicted_values)\n",
    "plt.xlabel('Observed ROI')\n",
    "plt.ylabel('Predicted ROI')\n",
    "plt.title('Observed vs. Predicted ROI')\n",
    "plt.grid(True)\n",
    "plt.show()\n",
    "\n",
    "\n",
    "# Regression summary\n",
    "print(model.summary())\n"
   ]
  },
  {
   "cell_type": "markdown",
   "metadata": {},
   "source": [
    "### Interpretation\n",
    "\n",
    "The low R-squared value suggests that this model may not be a good fit for explaining ROI. Additional factors or variables may be needed to improve its performance.\n",
    "\n",
    "However, the results indicate that 'budget' and 'number_vote' are statistically significant predictors of ROI because they have very low p-values, while 'average_rating' may not be relevant in explaining variations in ROI."
   ]
  },
  {
   "cell_type": "markdown",
   "metadata": {},
   "source": [
    "## Multiple Linear Regression Model: budget & number_vote"
   ]
  },
  {
   "cell_type": "code",
   "execution_count": 23,
   "metadata": {},
   "outputs": [
    {
     "data": {
      "image/png": "[encoded data removed]",
      "text/plain": [
       "<Figure size 432x288 with 1 Axes>"
      ]
     },
     "metadata": {
      "needs_background": "light"
     },
     "output_type": "display_data"
    },
    {
     "name": "stdout",
     "output_type": "stream",
     "text": [
      "                                 OLS Regression Results                                \n",
      "=======================================================================================\n",
      "Dep. Variable:     percentage_ROI_gross_budget   R-squared:                       0.018\n",
      "Model:                                     OLS   Adj. R-squared:                  0.017\n",
      "Method:                          Least Squares   F-statistic:                     11.97\n",
      "Date:                         Wed, 25 Oct 2023   Prob (F-statistic):           7.06e-06\n",
      "Time:                                 19:09:14   Log-Likelihood:                -10337.\n",
      "No. Observations:                         1290   AIC:                         2.068e+04\n",
      "Df Residuals:                             1287   BIC:                         2.070e+04\n",
      "Df Model:                                    2                                         \n",
      "Covariance Type:                     nonrobust                                         \n",
      "===============================================================================\n",
      "                  coef    std err          t      P>|t|      [0.025      0.975]\n",
      "-------------------------------------------------------------------------------\n",
      "const         274.2181     27.671      9.910      0.000     219.932     328.504\n",
      "budget      -2.057e-06   4.21e-07     -4.881      0.000   -2.88e-06   -1.23e-06\n",
      "number_vote     0.0008      0.000      2.844      0.005       0.000       0.001\n",
      "==============================================================================\n",
      "Omnibus:                     3110.648   Durbin-Watson:                   1.924\n",
      "Prob(Omnibus):                  0.000   Jarque-Bera (JB):         26121351.193\n",
      "Skew:                          23.449   Prob(JB):                         0.00\n",
      "Kurtosis:                     698.542   Cond. No.                     1.01e+08\n",
      "==============================================================================\n",
      "\n",
      "Notes:\n",
      "[1] Standard Errors assume that the covariance matrix of the errors is correctly specified.\n",
      "[2] The condition number is large, 1.01e+08. This might indicate that there are\n",
      "strong multicollinearity or other numerical problems.\n"
     ]
    }
   ],
   "source": [
    "# Add constant intercept to variables\n",
    "X = sm.add_constant(master_final_df[['budget', 'number_vote']])\n",
    "\n",
    "# Dependent variable\n",
    "y = master_final_df['percentage_ROI_gross_budget']\n",
    "\n",
    "# Apply fit test to model\n",
    "model = sm.OLS(y, X).fit()\n",
    "\n",
    "# Predicted values from model\n",
    "predicted_values = model.predict(X)\n",
    "\n",
    "# Create a scatter plot of observed vs. predicted ROI values\n",
    "plt.scatter(y, predicted_values)\n",
    "plt.xlabel('Observed ROI')\n",
    "plt.ylabel('Predicted ROI')\n",
    "plt.title('Observed vs. Predicted ROI')\n",
    "plt.grid(True)\n",
    "plt.show()\n",
    "\n",
    "\n",
    "# Regression summary\n",
    "print(model.summary())\n"
   ]
  },
  {
   "cell_type": "markdown",
   "metadata": {},
   "source": [
    "## Multiple Linear Regression Model: budget, genres, primary_name"
   ]
  },
  {
   "cell_type": "code",
   "execution_count": 24,
   "metadata": {},
   "outputs": [
    {
     "name": "stdout",
     "output_type": "stream",
     "text": [
      "<class 'pandas.core.frame.DataFrame'>\n",
      "RangeIndex: 1290 entries, 0 to 1289\n",
      "Data columns (total 17 columns):\n",
      " #   Column                       Non-Null Count  Dtype  \n",
      "---  ------                       --------------  -----  \n",
      " 0   movie_name                   1290 non-null   object \n",
      " 1   genres                       1290 non-null   object \n",
      " 2   percentage_ROI_gross_budget  1290 non-null   float64\n",
      " 3   gross                        1290 non-null   float64\n",
      " 4   budget                       1290 non-null   float64\n",
      " 5   opening_weekend_boxoffice    1290 non-null   float64\n",
      " 6   average_rating               1290 non-null   float64\n",
      " 7   number_vote                  1290 non-null   float64\n",
      " 8   primary_name                 1290 non-null   object \n",
      " 9   primary_profession           1290 non-null   object \n",
      " 10  release_date                 1290 non-null   object \n",
      " 11  release_year                 1290 non-null   int64  \n",
      " 12  runtime_minutes              1290 non-null   float64\n",
      " 13  distributor                  1290 non-null   object \n",
      " 14  max_theatre_count            1290 non-null   object \n",
      " 15  genres_encoded               1290 non-null   int64  \n",
      " 16  primary_name_encoded         1290 non-null   int64  \n",
      "dtypes: float64(7), int64(3), object(7)\n",
      "memory usage: 171.5+ KB\n"
     ]
    }
   ],
   "source": [
    "from sklearn.preprocessing import LabelEncoder\n",
    "\n",
    "# Create separate LabelEncoder instances for 'Genre' and 'Director'\n",
    "label_encoder_genres = LabelEncoder()\n",
    "label_encoder_primary_name = LabelEncoder()\n",
    "\n",
    "# Apply label encoding to 'Genre' column\n",
    "master_final_df['genres_encoded'] = label_encoder_genres.fit_transform(master_final_df['genres'])\n",
    "\n",
    "# Apply label encoding to 'Director' column\n",
    "master_final_df['primary_name_encoded'] = label_encoder_primary_name.fit_transform(master_final_df['primary_name'])\n",
    "\n",
    "# Resulting DataFrame with label encoding for both columns\n",
    "master_final_df.info()\n"
   ]
  },
  {
   "cell_type": "code",
   "execution_count": 25,
   "metadata": {},
   "outputs": [
    {
     "name": "stdout",
     "output_type": "stream",
     "text": [
      "Mean Squared Error: 4065359596403251.50\n",
      "R-squared: 0.42\n"
     ]
    },
    {
     "data": {
      "image/png": "[encoded data removed]",
      "text/plain": [
       "<Figure size 432x288 with 1 Axes>"
      ]
     },
     "metadata": {
      "needs_background": "light"
     },
     "output_type": "display_data"
    }
   ],
   "source": [
    "from sklearn.model_selection import train_test_split\n",
    "from sklearn.linear_model import LinearRegression\n",
    "from sklearn.metrics import mean_squared_error, r2_score\n",
    "import matplotlib.pyplot as plt\n",
    "\n",
    "# Load and preprocess the dataset (replace 'df' with your dataset)\n",
    "# Ensure that 'budget' and 'revenue' are numerical columns.\n",
    "# Encode categorical variables like genres and directors.\n",
    "\n",
    "# Split the data into training and testing sets\n",
    "x = master_final_df[['budget', 'genres_encoded', 'primary_name_encoded']]  # Features\n",
    "y = master_final_df['gross']  # Target variable\n",
    "x_train, x_test, y_train, y_test = train_test_split(x, y, test_size=0.2, random_state=42)\n",
    "\n",
    "# Create and train a linear regression model\n",
    "model = LinearRegression()\n",
    "model.fit(x_train, y_train)\n",
    "\n",
    "# Make predictions on the test set\n",
    "y_pred = model.predict(x_test)\n",
    "\n",
    "# Evaluate the model\n",
    "mae = mean_squared_error(y_test, y_pred)\n",
    "r_squared = r2_score(y_test, y_pred)\n",
    "print(f\"Mean Squared Error: {mae:.2f}\")\n",
    "print(f\"R-squared: {r_squared:.2f}\")\n",
    "\n",
    "# Visualize predictions vs. actual values\n",
    "plt.scatter(y_test, y_pred)\n",
    "plt.xlabel(\"Actual Revenue\")\n",
    "plt.ylabel(\"Predicted Revenue\")\n",
    "plt.title(\"Actual vs. Predicted Revenue\")\n",
    "plt.show()"
   ]
  },
  {
   "cell_type": "code",
   "execution_count": null,
   "metadata": {},
   "outputs": [],
   "source": []
  }
 ],
 "metadata": {
  "kernelspec": {
   "display_name": "learn-env",
   "language": "python",
   "name": "python3"
  },
  "language_info": {
   "codemirror_mode": {
    "name": "ipython",
    "version": 3
   },
   "file_extension": ".py",
   "mimetype": "text/x-python",
   "name": "python",
   "nbconvert_exporter": "python",
   "pygments_lexer": "ipython3",
   "version": "3.8.5"
  }
 },
 "nbformat": 4,
 "nbformat_minor": 2
}
