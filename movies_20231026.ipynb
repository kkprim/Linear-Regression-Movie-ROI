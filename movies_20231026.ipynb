{
 "cells": [
  {
   "cell_type": "code",
   "execution_count": 128,
   "metadata": {},
   "outputs": [],
   "source": [
    "import pandas as pd\n",
    "import sqlite3\n",
    "import warnings\n",
    "warnings.simplefilter(\"ignore\")\n",
    "import requests\n",
    "from bs4 import BeautifulSoup"
   ]
  },
  {
   "cell_type": "code",
   "execution_count": 129,
   "metadata": {},
   "outputs": [],
   "source": [
    "\n",
    "movie_tmdb = pd.read_csv('zippedData/tmdb.movies.csv.gz')\n",
    "movie_budget = pd.read_csv('zippedData/tn.movie_budgets.csv.gz')\n",
    "genres_top = pd.read_csv('top_genres_numbers.csv')\n",
    "theatre_weekend = pd.read_csv('weekend_theaters_numbers.csv')\n",
    "\n",
    "\n",
    "dataset = [movie_tmdb, movie_budget,genres_top, theatre_weekend]\n"
   ]
  },
  {
   "cell_type": "code",
   "execution_count": 130,
   "metadata": {},
   "outputs": [
    {
     "name": "stdout",
     "output_type": "stream",
     "text": [
      "Table: movie_basics\n",
      "Schema: CREATE TABLE \"movie_basics\" (\n",
      "\"movie_id\" TEXT,\n",
      "  \"primary_title\" TEXT,\n",
      "  \"original_title\" TEXT,\n",
      "  \"start_year\" INTEGER,\n",
      "  \"runtime_minutes\" REAL,\n",
      "  \"genres\" TEXT\n",
      ")\n",
      "\n",
      "Table: directors\n",
      "Schema: CREATE TABLE \"directors\" (\n",
      "\"movie_id\" TEXT,\n",
      "  \"person_id\" TEXT\n",
      ")\n",
      "\n",
      "Table: known_for\n",
      "Schema: CREATE TABLE \"known_for\" (\n",
      "\"person_id\" TEXT,\n",
      "  \"movie_id\" TEXT\n",
      ")\n",
      "\n",
      "Table: movie_akas\n",
      "Schema: CREATE TABLE \"movie_akas\" (\n",
      "\"movie_id\" TEXT,\n",
      "  \"ordering\" INTEGER,\n",
      "  \"title\" TEXT,\n",
      "  \"region\" TEXT,\n",
      "  \"language\" TEXT,\n",
      "  \"types\" TEXT,\n",
      "  \"attributes\" TEXT,\n",
      "  \"is_original_title\" REAL\n",
      ")\n",
      "\n",
      "Table: movie_ratings\n",
      "Schema: CREATE TABLE \"movie_ratings\" (\n",
      "\"movie_id\" TEXT,\n",
      "  \"averagerating\" REAL,\n",
      "  \"numvotes\" INTEGER\n",
      ")\n",
      "\n",
      "Table: persons\n",
      "Schema: CREATE TABLE \"persons\" (\n",
      "\"person_id\" TEXT,\n",
      "  \"primary_name\" TEXT,\n",
      "  \"birth_year\" REAL,\n",
      "  \"death_year\" REAL,\n",
      "  \"primary_profession\" TEXT\n",
      ")\n",
      "\n",
      "Table: principals\n",
      "Schema: CREATE TABLE \"principals\" (\n",
      "\"movie_id\" TEXT,\n",
      "  \"ordering\" INTEGER,\n",
      "  \"person_id\" TEXT,\n",
      "  \"category\" TEXT,\n",
      "  \"job\" TEXT,\n",
      "  \"characters\" TEXT\n",
      ")\n",
      "\n",
      "Table: writers\n",
      "Schema: CREATE TABLE \"writers\" (\n",
      "\"movie_id\" TEXT,\n",
      "  \"person_id\" TEXT\n",
      ")\n",
      "\n"
     ]
    }
   ],
   "source": [
    "conn = sqlite3.connect('zippedData/im.db/im.db')\n",
    "cursor = conn.cursor()\n",
    "\n",
    "# Get the main schema\n",
    "cursor.execute('''\n",
    "               SELECT name, sql \n",
    "               FROM sqlite_master \n",
    "               WHERE type='table';\n",
    "               ''')\n",
    "schema = cursor.fetchall()\n",
    "\n",
    "# Print the schema\n",
    "for name, schema in schema:\n",
    "    print(f\"Table: {name}\")\n",
    "    print(f\"Schema: {schema}\\n\")"
   ]
  },
  {
   "cell_type": "code",
   "execution_count": 131,
   "metadata": {},
   "outputs": [
    {
     "data": {
      "text/html": [
       "<div>\n",
       "<style scoped>\n",
       "    .dataframe tbody tr th:only-of-type {\n",
       "        vertical-align: middle;\n",
       "    }\n",
       "\n",
       "    .dataframe tbody tr th {\n",
       "        vertical-align: top;\n",
       "    }\n",
       "\n",
       "    .dataframe thead th {\n",
       "        text-align: right;\n",
       "    }\n",
       "</style>\n",
       "<table border=\"1\" class=\"dataframe\">\n",
       "  <thead>\n",
       "    <tr style=\"text-align: right;\">\n",
       "      <th></th>\n",
       "      <th>Unnamed: 0</th>\n",
       "      <th>genre_ids</th>\n",
       "      <th>id</th>\n",
       "      <th>original_language</th>\n",
       "      <th>original_title</th>\n",
       "      <th>popularity</th>\n",
       "      <th>release_date</th>\n",
       "      <th>title</th>\n",
       "      <th>vote_average</th>\n",
       "      <th>vote_count</th>\n",
       "    </tr>\n",
       "  </thead>\n",
       "  <tbody>\n",
       "    <tr>\n",
       "      <th>0</th>\n",
       "      <td>0</td>\n",
       "      <td>[12, 14, 10751]</td>\n",
       "      <td>12444</td>\n",
       "      <td>en</td>\n",
       "      <td>Harry Potter and the Deathly Hallows: Part 1</td>\n",
       "      <td>33.533</td>\n",
       "      <td>2010-11-19</td>\n",
       "      <td>Harry Potter and the Deathly Hallows: Part 1</td>\n",
       "      <td>7.7</td>\n",
       "      <td>10788</td>\n",
       "    </tr>\n",
       "    <tr>\n",
       "      <th>1</th>\n",
       "      <td>1</td>\n",
       "      <td>[14, 12, 16, 10751]</td>\n",
       "      <td>10191</td>\n",
       "      <td>en</td>\n",
       "      <td>How to Train Your Dragon</td>\n",
       "      <td>28.734</td>\n",
       "      <td>2010-03-26</td>\n",
       "      <td>How to Train Your Dragon</td>\n",
       "      <td>7.7</td>\n",
       "      <td>7610</td>\n",
       "    </tr>\n",
       "    <tr>\n",
       "      <th>2</th>\n",
       "      <td>2</td>\n",
       "      <td>[12, 28, 878]</td>\n",
       "      <td>10138</td>\n",
       "      <td>en</td>\n",
       "      <td>Iron Man 2</td>\n",
       "      <td>28.515</td>\n",
       "      <td>2010-05-07</td>\n",
       "      <td>Iron Man 2</td>\n",
       "      <td>6.8</td>\n",
       "      <td>12368</td>\n",
       "    </tr>\n",
       "    <tr>\n",
       "      <th>3</th>\n",
       "      <td>3</td>\n",
       "      <td>[16, 35, 10751]</td>\n",
       "      <td>862</td>\n",
       "      <td>en</td>\n",
       "      <td>Toy Story</td>\n",
       "      <td>28.005</td>\n",
       "      <td>1995-11-22</td>\n",
       "      <td>Toy Story</td>\n",
       "      <td>7.9</td>\n",
       "      <td>10174</td>\n",
       "    </tr>\n",
       "    <tr>\n",
       "      <th>4</th>\n",
       "      <td>4</td>\n",
       "      <td>[28, 878, 12]</td>\n",
       "      <td>27205</td>\n",
       "      <td>en</td>\n",
       "      <td>Inception</td>\n",
       "      <td>27.920</td>\n",
       "      <td>2010-07-16</td>\n",
       "      <td>Inception</td>\n",
       "      <td>8.3</td>\n",
       "      <td>22186</td>\n",
       "    </tr>\n",
       "  </tbody>\n",
       "</table>\n",
       "</div>"
      ],
      "text/plain": [
       "   Unnamed: 0            genre_ids     id original_language  \\\n",
       "0           0      [12, 14, 10751]  12444                en   \n",
       "1           1  [14, 12, 16, 10751]  10191                en   \n",
       "2           2        [12, 28, 878]  10138                en   \n",
       "3           3      [16, 35, 10751]    862                en   \n",
       "4           4        [28, 878, 12]  27205                en   \n",
       "\n",
       "                                 original_title  popularity release_date  \\\n",
       "0  Harry Potter and the Deathly Hallows: Part 1      33.533   2010-11-19   \n",
       "1                      How to Train Your Dragon      28.734   2010-03-26   \n",
       "2                                    Iron Man 2      28.515   2010-05-07   \n",
       "3                                     Toy Story      28.005   1995-11-22   \n",
       "4                                     Inception      27.920   2010-07-16   \n",
       "\n",
       "                                          title  vote_average  vote_count  \n",
       "0  Harry Potter and the Deathly Hallows: Part 1           7.7       10788  \n",
       "1                      How to Train Your Dragon           7.7        7610  \n",
       "2                                    Iron Man 2           6.8       12368  \n",
       "3                                     Toy Story           7.9       10174  \n",
       "4                                     Inception           8.3       22186  "
      ]
     },
     "metadata": {},
     "output_type": "display_data"
    },
    {
     "name": "stdout",
     "output_type": "stream",
     "text": [
      "\n"
     ]
    },
    {
     "data": {
      "text/html": [
       "<div>\n",
       "<style scoped>\n",
       "    .dataframe tbody tr th:only-of-type {\n",
       "        vertical-align: middle;\n",
       "    }\n",
       "\n",
       "    .dataframe tbody tr th {\n",
       "        vertical-align: top;\n",
       "    }\n",
       "\n",
       "    .dataframe thead th {\n",
       "        text-align: right;\n",
       "    }\n",
       "</style>\n",
       "<table border=\"1\" class=\"dataframe\">\n",
       "  <thead>\n",
       "    <tr style=\"text-align: right;\">\n",
       "      <th></th>\n",
       "      <th>id</th>\n",
       "      <th>release_date</th>\n",
       "      <th>movie</th>\n",
       "      <th>production_budget</th>\n",
       "      <th>domestic_gross</th>\n",
       "      <th>worldwide_gross</th>\n",
       "    </tr>\n",
       "  </thead>\n",
       "  <tbody>\n",
       "    <tr>\n",
       "      <th>0</th>\n",
       "      <td>1</td>\n",
       "      <td>Dec 18, 2009</td>\n",
       "      <td>Avatar</td>\n",
       "      <td>$425,000,000</td>\n",
       "      <td>$760,507,625</td>\n",
       "      <td>$2,776,345,279</td>\n",
       "    </tr>\n",
       "    <tr>\n",
       "      <th>1</th>\n",
       "      <td>2</td>\n",
       "      <td>May 20, 2011</td>\n",
       "      <td>Pirates of the Caribbean: On Stranger Tides</td>\n",
       "      <td>$410,600,000</td>\n",
       "      <td>$241,063,875</td>\n",
       "      <td>$1,045,663,875</td>\n",
       "    </tr>\n",
       "    <tr>\n",
       "      <th>2</th>\n",
       "      <td>3</td>\n",
       "      <td>Jun 7, 2019</td>\n",
       "      <td>Dark Phoenix</td>\n",
       "      <td>$350,000,000</td>\n",
       "      <td>$42,762,350</td>\n",
       "      <td>$149,762,350</td>\n",
       "    </tr>\n",
       "    <tr>\n",
       "      <th>3</th>\n",
       "      <td>4</td>\n",
       "      <td>May 1, 2015</td>\n",
       "      <td>Avengers: Age of Ultron</td>\n",
       "      <td>$330,600,000</td>\n",
       "      <td>$459,005,868</td>\n",
       "      <td>$1,403,013,963</td>\n",
       "    </tr>\n",
       "    <tr>\n",
       "      <th>4</th>\n",
       "      <td>5</td>\n",
       "      <td>Dec 15, 2017</td>\n",
       "      <td>Star Wars Ep. VIII: The Last Jedi</td>\n",
       "      <td>$317,000,000</td>\n",
       "      <td>$620,181,382</td>\n",
       "      <td>$1,316,721,747</td>\n",
       "    </tr>\n",
       "  </tbody>\n",
       "</table>\n",
       "</div>"
      ],
      "text/plain": [
       "   id  release_date                                        movie  \\\n",
       "0   1  Dec 18, 2009                                       Avatar   \n",
       "1   2  May 20, 2011  Pirates of the Caribbean: On Stranger Tides   \n",
       "2   3   Jun 7, 2019                                 Dark Phoenix   \n",
       "3   4   May 1, 2015                      Avengers: Age of Ultron   \n",
       "4   5  Dec 15, 2017            Star Wars Ep. VIII: The Last Jedi   \n",
       "\n",
       "  production_budget domestic_gross worldwide_gross  \n",
       "0      $425,000,000   $760,507,625  $2,776,345,279  \n",
       "1      $410,600,000   $241,063,875  $1,045,663,875  \n",
       "2      $350,000,000    $42,762,350    $149,762,350  \n",
       "3      $330,600,000   $459,005,868  $1,403,013,963  \n",
       "4      $317,000,000   $620,181,382  $1,316,721,747  "
      ]
     },
     "metadata": {},
     "output_type": "display_data"
    },
    {
     "name": "stdout",
     "output_type": "stream",
     "text": [
      "\n"
     ]
    },
    {
     "data": {
      "text/html": [
       "<div>\n",
       "<style scoped>\n",
       "    .dataframe tbody tr th:only-of-type {\n",
       "        vertical-align: middle;\n",
       "    }\n",
       "\n",
       "    .dataframe tbody tr th {\n",
       "        vertical-align: top;\n",
       "    }\n",
       "\n",
       "    .dataframe thead th {\n",
       "        text-align: right;\n",
       "    }\n",
       "</style>\n",
       "<table border=\"1\" class=\"dataframe\">\n",
       "  <thead>\n",
       "    <tr style=\"text-align: right;\">\n",
       "      <th></th>\n",
       "      <th>year</th>\n",
       "      <th>rank</th>\n",
       "      <th>genre</th>\n",
       "      <th>movies</th>\n",
       "      <th>gross</th>\n",
       "      <th>tickets</th>\n",
       "      <th>share</th>\n",
       "    </tr>\n",
       "  </thead>\n",
       "  <tbody>\n",
       "    <tr>\n",
       "      <th>0</th>\n",
       "      <td>2023</td>\n",
       "      <td>1</td>\n",
       "      <td>Action</td>\n",
       "      <td>47</td>\n",
       "      <td>$2,713,081,639</td>\n",
       "      <td>257,652,551</td>\n",
       "      <td>36.43%</td>\n",
       "    </tr>\n",
       "    <tr>\n",
       "      <th>1</th>\n",
       "      <td>2023</td>\n",
       "      <td>2</td>\n",
       "      <td>Adventure</td>\n",
       "      <td>24</td>\n",
       "      <td>$1,455,186,660</td>\n",
       "      <td>138,194,353</td>\n",
       "      <td>19.54%</td>\n",
       "    </tr>\n",
       "    <tr>\n",
       "      <th>2</th>\n",
       "      <td>2023</td>\n",
       "      <td>3</td>\n",
       "      <td>Comedy</td>\n",
       "      <td>57</td>\n",
       "      <td>$1,085,339,861</td>\n",
       "      <td>103,071,184</td>\n",
       "      <td>14.58%</td>\n",
       "    </tr>\n",
       "    <tr>\n",
       "      <th>3</th>\n",
       "      <td>2023</td>\n",
       "      <td>4</td>\n",
       "      <td>Drama</td>\n",
       "      <td>124</td>\n",
       "      <td>$746,957,150</td>\n",
       "      <td>70,936,038</td>\n",
       "      <td>10.03%</td>\n",
       "    </tr>\n",
       "    <tr>\n",
       "      <th>4</th>\n",
       "      <td>2023</td>\n",
       "      <td>5</td>\n",
       "      <td>Horror</td>\n",
       "      <td>43</td>\n",
       "      <td>$710,624,019</td>\n",
       "      <td>67,485,643</td>\n",
       "      <td>9.54%</td>\n",
       "    </tr>\n",
       "  </tbody>\n",
       "</table>\n",
       "</div>"
      ],
      "text/plain": [
       "   year  rank      genre  movies            gross      tickets   share\n",
       "0  2023     1     Action      47  $2,713,081,639   257,652,551  36.43%\n",
       "1  2023     2  Adventure      24  $1,455,186,660   138,194,353  19.54%\n",
       "2  2023     3     Comedy      57  $1,085,339,861   103,071,184  14.58%\n",
       "3  2023     4      Drama     124    $746,957,150    70,936,038  10.03%\n",
       "4  2023     5     Horror      43    $710,624,019    67,485,643   9.54%"
      ]
     },
     "metadata": {},
     "output_type": "display_data"
    },
    {
     "name": "stdout",
     "output_type": "stream",
     "text": [
      "\n"
     ]
    },
    {
     "data": {
      "text/html": [
       "<div>\n",
       "<style scoped>\n",
       "    .dataframe tbody tr th:only-of-type {\n",
       "        vertical-align: middle;\n",
       "    }\n",
       "\n",
       "    .dataframe tbody tr th {\n",
       "        vertical-align: top;\n",
       "    }\n",
       "\n",
       "    .dataframe thead th {\n",
       "        text-align: right;\n",
       "    }\n",
       "</style>\n",
       "<table border=\"1\" class=\"dataframe\">\n",
       "  <thead>\n",
       "    <tr style=\"text-align: right;\">\n",
       "      <th></th>\n",
       "      <th>year</th>\n",
       "      <th>rank</th>\n",
       "      <th>movie</th>\n",
       "      <th>distributor</th>\n",
       "      <th>domestic_box_office</th>\n",
       "      <th>opening_weekend_box_office</th>\n",
       "      <th>max_theatre_count</th>\n",
       "    </tr>\n",
       "  </thead>\n",
       "  <tbody>\n",
       "    <tr>\n",
       "      <th>0</th>\n",
       "      <td>2023</td>\n",
       "      <td>1</td>\n",
       "      <td>Barbie</td>\n",
       "      <td>Warner Bros.</td>\n",
       "      <td>635673355</td>\n",
       "      <td>162022044</td>\n",
       "      <td>4337</td>\n",
       "    </tr>\n",
       "    <tr>\n",
       "      <th>1</th>\n",
       "      <td>2023</td>\n",
       "      <td>2</td>\n",
       "      <td>The Super Mario Bros. Movie</td>\n",
       "      <td>Universal</td>\n",
       "      <td>574934330</td>\n",
       "      <td>146361865</td>\n",
       "      <td>4371</td>\n",
       "    </tr>\n",
       "    <tr>\n",
       "      <th>2</th>\n",
       "      <td>2023</td>\n",
       "      <td>3</td>\n",
       "      <td>Spider-Man: Across the Spider-Verse</td>\n",
       "      <td>Sony Pict…</td>\n",
       "      <td>381311319</td>\n",
       "      <td>120663589</td>\n",
       "      <td>4332</td>\n",
       "    </tr>\n",
       "    <tr>\n",
       "      <th>3</th>\n",
       "      <td>2023</td>\n",
       "      <td>4</td>\n",
       "      <td>Guardians of the Galaxy Vol 3</td>\n",
       "      <td>Walt Disney</td>\n",
       "      <td>358995815</td>\n",
       "      <td>118414021</td>\n",
       "      <td>4450</td>\n",
       "    </tr>\n",
       "    <tr>\n",
       "      <th>4</th>\n",
       "      <td>2023</td>\n",
       "      <td>5</td>\n",
       "      <td>Oppenheimer</td>\n",
       "      <td>Universal</td>\n",
       "      <td>324052905</td>\n",
       "      <td>82455420</td>\n",
       "      <td>3761</td>\n",
       "    </tr>\n",
       "  </tbody>\n",
       "</table>\n",
       "</div>"
      ],
      "text/plain": [
       "   year rank                                movie   distributor  \\\n",
       "0  2023    1                               Barbie  Warner Bros.   \n",
       "1  2023    2          The Super Mario Bros. Movie     Universal   \n",
       "2  2023    3  Spider-Man: Across the Spider-Verse    Sony Pict…   \n",
       "3  2023    4        Guardians of the Galaxy Vol 3   Walt Disney   \n",
       "4  2023    5                          Oppenheimer     Universal   \n",
       "\n",
       "  domestic_box_office opening_weekend_box_office max_theatre_count  \n",
       "0           635673355                  162022044              4337  \n",
       "1           574934330                  146361865              4371  \n",
       "2           381311319                  120663589              4332  \n",
       "3           358995815                  118414021              4450  \n",
       "4           324052905                   82455420              3761  "
      ]
     },
     "metadata": {},
     "output_type": "display_data"
    },
    {
     "name": "stdout",
     "output_type": "stream",
     "text": [
      "\n"
     ]
    }
   ],
   "source": [
    "for i in dataset:\n",
    "    display(i.head())\n",
    "    print()"
   ]
  },
  {
   "cell_type": "code",
   "execution_count": 132,
   "metadata": {},
   "outputs": [
    {
     "name": "stdout",
     "output_type": "stream",
     "text": [
      "<class 'pandas.core.frame.DataFrame'>\n",
      "RangeIndex: 26517 entries, 0 to 26516\n",
      "Data columns (total 10 columns):\n",
      " #   Column             Non-Null Count  Dtype  \n",
      "---  ------             --------------  -----  \n",
      " 0   Unnamed: 0         26517 non-null  int64  \n",
      " 1   genre_ids          26517 non-null  object \n",
      " 2   id                 26517 non-null  int64  \n",
      " 3   original_language  26517 non-null  object \n",
      " 4   original_title     26517 non-null  object \n",
      " 5   popularity         26517 non-null  float64\n",
      " 6   release_date       26517 non-null  object \n",
      " 7   title              26517 non-null  object \n",
      " 8   vote_average       26517 non-null  float64\n",
      " 9   vote_count         26517 non-null  int64  \n",
      "dtypes: float64(2), int64(3), object(5)\n",
      "memory usage: 2.0+ MB\n",
      "\n",
      "<class 'pandas.core.frame.DataFrame'>\n",
      "RangeIndex: 5782 entries, 0 to 5781\n",
      "Data columns (total 6 columns):\n",
      " #   Column             Non-Null Count  Dtype \n",
      "---  ------             --------------  ----- \n",
      " 0   id                 5782 non-null   int64 \n",
      " 1   release_date       5782 non-null   object\n",
      " 2   movie              5782 non-null   object\n",
      " 3   production_budget  5782 non-null   object\n",
      " 4   domestic_gross     5782 non-null   object\n",
      " 5   worldwide_gross    5782 non-null   object\n",
      "dtypes: int64(1), object(5)\n",
      "memory usage: 271.2+ KB\n",
      "\n",
      "<class 'pandas.core.frame.DataFrame'>\n",
      "RangeIndex: 186 entries, 0 to 185\n",
      "Data columns (total 7 columns):\n",
      " #   Column   Non-Null Count  Dtype \n",
      "---  ------   --------------  ----- \n",
      " 0   year     186 non-null    int64 \n",
      " 1   rank     186 non-null    int64 \n",
      " 2   genre    186 non-null    object\n",
      " 3   movies   186 non-null    int64 \n",
      " 4   gross    186 non-null    object\n",
      " 5   tickets  186 non-null    object\n",
      " 6   share    186 non-null    object\n",
      "dtypes: int64(3), object(4)\n",
      "memory usage: 10.3+ KB\n",
      "\n",
      "<class 'pandas.core.frame.DataFrame'>\n",
      "RangeIndex: 7405 entries, 0 to 7404\n",
      "Data columns (total 7 columns):\n",
      " #   Column                      Non-Null Count  Dtype \n",
      "---  ------                      --------------  ----- \n",
      " 0   year                        7405 non-null   int64 \n",
      " 1   rank                        7403 non-null   object\n",
      " 2   movie                       7403 non-null   object\n",
      " 3   distributor                 7272 non-null   object\n",
      " 4   domestic_box_office         7405 non-null   object\n",
      " 5   opening_weekend_box_office  6705 non-null   object\n",
      " 6   max_theatre_count           7373 non-null   object\n",
      "dtypes: int64(1), object(6)\n",
      "memory usage: 405.1+ KB\n",
      "\n"
     ]
    }
   ],
   "source": [
    "for i in dataset:\n",
    "    i.info()\n",
    "    print()"
   ]
  },
  {
   "cell_type": "code",
   "execution_count": 133,
   "metadata": {},
   "outputs": [
    {
     "data": {
      "text/plain": [
       "Unnamed: 0           0\n",
       "genre_ids            0\n",
       "id                   0\n",
       "original_language    0\n",
       "original_title       0\n",
       "popularity           0\n",
       "release_date         0\n",
       "title                0\n",
       "vote_average         0\n",
       "vote_count           0\n",
       "dtype: int64"
      ]
     },
     "metadata": {},
     "output_type": "display_data"
    },
    {
     "name": "stdout",
     "output_type": "stream",
     "text": [
      "\n"
     ]
    },
    {
     "data": {
      "text/plain": [
       "id                   0\n",
       "release_date         0\n",
       "movie                0\n",
       "production_budget    0\n",
       "domestic_gross       0\n",
       "worldwide_gross      0\n",
       "dtype: int64"
      ]
     },
     "metadata": {},
     "output_type": "display_data"
    },
    {
     "name": "stdout",
     "output_type": "stream",
     "text": [
      "\n"
     ]
    },
    {
     "data": {
      "text/plain": [
       "year       0\n",
       "rank       0\n",
       "genre      0\n",
       "movies     0\n",
       "gross      0\n",
       "tickets    0\n",
       "share      0\n",
       "dtype: int64"
      ]
     },
     "metadata": {},
     "output_type": "display_data"
    },
    {
     "name": "stdout",
     "output_type": "stream",
     "text": [
      "\n"
     ]
    },
    {
     "data": {
      "text/plain": [
       "year                            0\n",
       "rank                            2\n",
       "movie                           2\n",
       "distributor                   133\n",
       "domestic_box_office             0\n",
       "opening_weekend_box_office    700\n",
       "max_theatre_count              32\n",
       "dtype: int64"
      ]
     },
     "metadata": {},
     "output_type": "display_data"
    },
    {
     "name": "stdout",
     "output_type": "stream",
     "text": [
      "\n"
     ]
    }
   ],
   "source": [
    "for i in dataset:\n",
    "    display(i.isna().sum())\n",
    "    print()"
   ]
  },
  {
   "cell_type": "code",
   "execution_count": 134,
   "metadata": {},
   "outputs": [
    {
     "name": "stdout",
     "output_type": "stream",
     "text": [
      "vote_count           0.0\n",
      "vote_average         0.0\n",
      "title                0.0\n",
      "release_date         0.0\n",
      "popularity           0.0\n",
      "original_title       0.0\n",
      "original_language    0.0\n",
      "id                   0.0\n",
      "genre_ids            0.0\n",
      "Unnamed: 0           0.0\n",
      "dtype: float64\n",
      "\n",
      "worldwide_gross      0.0\n",
      "domestic_gross       0.0\n",
      "production_budget    0.0\n",
      "movie                0.0\n",
      "release_date         0.0\n",
      "id                   0.0\n",
      "dtype: float64\n",
      "\n",
      "share      0.0\n",
      "tickets    0.0\n",
      "gross      0.0\n",
      "movies     0.0\n",
      "genre      0.0\n",
      "rank       0.0\n",
      "year       0.0\n",
      "dtype: float64\n",
      "\n",
      "opening_weekend_box_office    9.45\n",
      "distributor                   1.80\n",
      "max_theatre_count             0.43\n",
      "movie                         0.03\n",
      "rank                          0.03\n",
      "domestic_box_office           0.00\n",
      "year                          0.00\n",
      "dtype: float64\n",
      "\n"
     ]
    }
   ],
   "source": [
    "for i in dataset:\n",
    "    print(round((i.isna().sum().sort_values(ascending = False) / i.shape[0] * 100), 2))\n",
    "    print()"
   ]
  },
  {
   "cell_type": "code",
   "execution_count": 135,
   "metadata": {},
   "outputs": [
    {
     "data": {
      "text/plain": [
       "0"
      ]
     },
     "metadata": {},
     "output_type": "display_data"
    },
    {
     "name": "stdout",
     "output_type": "stream",
     "text": [
      "\n"
     ]
    },
    {
     "data": {
      "text/plain": [
       "0"
      ]
     },
     "metadata": {},
     "output_type": "display_data"
    },
    {
     "name": "stdout",
     "output_type": "stream",
     "text": [
      "\n"
     ]
    },
    {
     "data": {
      "text/plain": [
       "0"
      ]
     },
     "metadata": {},
     "output_type": "display_data"
    },
    {
     "name": "stdout",
     "output_type": "stream",
     "text": [
      "\n"
     ]
    },
    {
     "data": {
      "text/plain": [
       "0"
      ]
     },
     "metadata": {},
     "output_type": "display_data"
    },
    {
     "name": "stdout",
     "output_type": "stream",
     "text": [
      "\n"
     ]
    }
   ],
   "source": [
    "for i in dataset:\n",
    "    display(i.duplicated().sum())\n",
    "    print()"
   ]
  },
  {
   "cell_type": "markdown",
   "metadata": {},
   "source": [
    "1. We have a dataset of 5 tables:\n",
    "- movie_tmdb\n",
    "- movie_budget\n",
    "- genres_top\n",
    "- data\n",
    "- theatre_weekend\n",
    "2. Our sql database consists of 8 tables:\n",
    "- writers\n",
    "- principals\n",
    "- persons\n",
    "- movie_ratings\n",
    "- movie_akas\n",
    "- directors\n",
    "- movie_basics"
   ]
  },
  {
   "cell_type": "markdown",
   "metadata": {},
   "source": [
    "You tube was founded in 2005, Netflix in 200. Streaming platforms changed the industry of cinema. We include movies from 2010 only"
   ]
  },
  {
   "cell_type": "markdown",
   "metadata": {},
   "source": [
    "Importing neccessary information from database to dataframe"
   ]
  },
  {
   "cell_type": "code",
   "execution_count": 136,
   "metadata": {},
   "outputs": [],
   "source": [
    "        \n",
    "sql_query = pd.read_sql_query ('''\n",
    "                               SELECT\n",
    "                               mb.original_title,\n",
    "                               mb.start_year,\n",
    "                               mb.runtime_minutes,\n",
    "                               mb.genres,\n",
    "                               mr.averagerating,\n",
    "                               mr.numvotes,\n",
    "                               p.primary_name,\n",
    "                               p.primary_profession\n",
    "                               FROM movie_akas\n",
    "                               JOIN movie_ratings mr\n",
    "                               USING(movie_id)\n",
    "                               JOIN movie_basics mb\n",
    "                               USING(movie_id)\n",
    "                               JOIN writers\n",
    "                               USING(movie_id)\n",
    "                               JOIN persons p\n",
    "                               USING(person_id)\n",
    "                               WHERE start_year >= 2010\n",
    "                               AND region = 'US'\n",
    "                               GROUP BY primary_title\n",
    "                               ''', conn)\n",
    "\n",
    "df = pd.DataFrame(sql_query, columns = [\n",
    "    'original_title', 'start_year', 'runtime_minutes', \n",
    "    'genres', 'averagerating', 'numvotes',\n",
    "    'primary_name', 'primary_profession']\n",
    ")"
   ]
  },
  {
   "cell_type": "code",
   "execution_count": 137,
   "metadata": {},
   "outputs": [
    {
     "name": "stdout",
     "output_type": "stream",
     "text": [
      "<class 'pandas.core.frame.DataFrame'>\n",
      "RangeIndex: 22534 entries, 0 to 22533\n",
      "Data columns (total 8 columns):\n",
      " #   Column              Non-Null Count  Dtype  \n",
      "---  ------              --------------  -----  \n",
      " 0   original_title      22534 non-null  object \n",
      " 1   start_year          22534 non-null  int64  \n",
      " 2   runtime_minutes     20935 non-null  float64\n",
      " 3   genres              22470 non-null  object \n",
      " 4   averagerating       22534 non-null  float64\n",
      " 5   numvotes            22534 non-null  int64  \n",
      " 6   primary_name        22534 non-null  object \n",
      " 7   primary_profession  22527 non-null  object \n",
      "dtypes: float64(2), int64(2), object(4)\n",
      "memory usage: 1.4+ MB\n"
     ]
    }
   ],
   "source": [
    "df.info()"
   ]
  },
  {
   "cell_type": "code",
   "execution_count": 138,
   "metadata": {},
   "outputs": [
    {
     "data": {
      "text/html": [
       "<div>\n",
       "<style scoped>\n",
       "    .dataframe tbody tr th:only-of-type {\n",
       "        vertical-align: middle;\n",
       "    }\n",
       "\n",
       "    .dataframe tbody tr th {\n",
       "        vertical-align: top;\n",
       "    }\n",
       "\n",
       "    .dataframe thead th {\n",
       "        text-align: right;\n",
       "    }\n",
       "</style>\n",
       "<table border=\"1\" class=\"dataframe\">\n",
       "  <thead>\n",
       "    <tr style=\"text-align: right;\">\n",
       "      <th></th>\n",
       "      <th>original_title</th>\n",
       "      <th>start_year</th>\n",
       "      <th>runtime_minutes</th>\n",
       "      <th>genres</th>\n",
       "      <th>averagerating</th>\n",
       "      <th>numvotes</th>\n",
       "      <th>primary_name</th>\n",
       "      <th>primary_profession</th>\n",
       "    </tr>\n",
       "  </thead>\n",
       "  <tbody>\n",
       "    <tr>\n",
       "      <th>0</th>\n",
       "      <td>#1 Serial Killer</td>\n",
       "      <td>2013</td>\n",
       "      <td>87.0</td>\n",
       "      <td>Horror</td>\n",
       "      <td>5.6</td>\n",
       "      <td>40</td>\n",
       "      <td>Koji Steven Sakai</td>\n",
       "      <td>producer,writer,director</td>\n",
       "    </tr>\n",
       "    <tr>\n",
       "      <th>1</th>\n",
       "      <td>#5</td>\n",
       "      <td>2013</td>\n",
       "      <td>68.0</td>\n",
       "      <td>Biography,Comedy,Fantasy</td>\n",
       "      <td>6.8</td>\n",
       "      <td>6</td>\n",
       "      <td>Ricky Bardy</td>\n",
       "      <td>producer,director,editor</td>\n",
       "    </tr>\n",
       "    <tr>\n",
       "      <th>2</th>\n",
       "      <td>#Captured</td>\n",
       "      <td>2017</td>\n",
       "      <td>81.0</td>\n",
       "      <td>Thriller</td>\n",
       "      <td>2.8</td>\n",
       "      <td>212</td>\n",
       "      <td>Lizze Gordon</td>\n",
       "      <td>actress,producer,writer</td>\n",
       "    </tr>\n",
       "    <tr>\n",
       "      <th>3</th>\n",
       "      <td>#DigitalLivesMatter</td>\n",
       "      <td>2016</td>\n",
       "      <td>NaN</td>\n",
       "      <td>Comedy</td>\n",
       "      <td>6.2</td>\n",
       "      <td>19</td>\n",
       "      <td>Cas Sigers-Beedles</td>\n",
       "      <td>producer,writer,director</td>\n",
       "    </tr>\n",
       "    <tr>\n",
       "      <th>4</th>\n",
       "      <td>#Disneyland60</td>\n",
       "      <td>2015</td>\n",
       "      <td>45.0</td>\n",
       "      <td>Documentary</td>\n",
       "      <td>8.8</td>\n",
       "      <td>5</td>\n",
       "      <td>M.L. Martin</td>\n",
       "      <td>writer,producer,cinematographer</td>\n",
       "    </tr>\n",
       "    <tr>\n",
       "      <th>5</th>\n",
       "      <td>#Enough</td>\n",
       "      <td>2015</td>\n",
       "      <td>NaN</td>\n",
       "      <td>Drama</td>\n",
       "      <td>2.4</td>\n",
       "      <td>7</td>\n",
       "      <td>Damion Stevenson</td>\n",
       "      <td>actor,writer,miscellaneous</td>\n",
       "    </tr>\n",
       "    <tr>\n",
       "      <th>6</th>\n",
       "      <td>#FollowFriday</td>\n",
       "      <td>2016</td>\n",
       "      <td>90.0</td>\n",
       "      <td>Thriller</td>\n",
       "      <td>2.8</td>\n",
       "      <td>186</td>\n",
       "      <td>Micho Rutare</td>\n",
       "      <td>miscellaneous,writer,director</td>\n",
       "    </tr>\n",
       "    <tr>\n",
       "      <th>7</th>\n",
       "      <td>#Horror</td>\n",
       "      <td>2015</td>\n",
       "      <td>101.0</td>\n",
       "      <td>Crime,Drama,Horror</td>\n",
       "      <td>3.0</td>\n",
       "      <td>3092</td>\n",
       "      <td>Tara Subkoff</td>\n",
       "      <td>actress,producer,director</td>\n",
       "    </tr>\n",
       "    <tr>\n",
       "      <th>8</th>\n",
       "      <td>#Lucky Number</td>\n",
       "      <td>2015</td>\n",
       "      <td>80.0</td>\n",
       "      <td>Comedy</td>\n",
       "      <td>5.1</td>\n",
       "      <td>425</td>\n",
       "      <td>David Cornue</td>\n",
       "      <td>producer,writer,composer</td>\n",
       "    </tr>\n",
       "    <tr>\n",
       "      <th>9</th>\n",
       "      <td>#O2LForever</td>\n",
       "      <td>2015</td>\n",
       "      <td>95.0</td>\n",
       "      <td>Biography,Documentary,Music</td>\n",
       "      <td>9.2</td>\n",
       "      <td>66</td>\n",
       "      <td>Michael Goldfine</td>\n",
       "      <td>producer,director,writer</td>\n",
       "    </tr>\n",
       "  </tbody>\n",
       "</table>\n",
       "</div>"
      ],
      "text/plain": [
       "        original_title  start_year  runtime_minutes  \\\n",
       "0     #1 Serial Killer        2013             87.0   \n",
       "1                   #5        2013             68.0   \n",
       "2            #Captured        2017             81.0   \n",
       "3  #DigitalLivesMatter        2016              NaN   \n",
       "4        #Disneyland60        2015             45.0   \n",
       "5              #Enough        2015              NaN   \n",
       "6        #FollowFriday        2016             90.0   \n",
       "7              #Horror        2015            101.0   \n",
       "8        #Lucky Number        2015             80.0   \n",
       "9          #O2LForever        2015             95.0   \n",
       "\n",
       "                        genres  averagerating  numvotes        primary_name  \\\n",
       "0                       Horror            5.6        40   Koji Steven Sakai   \n",
       "1     Biography,Comedy,Fantasy            6.8         6         Ricky Bardy   \n",
       "2                     Thriller            2.8       212        Lizze Gordon   \n",
       "3                       Comedy            6.2        19  Cas Sigers-Beedles   \n",
       "4                  Documentary            8.8         5         M.L. Martin   \n",
       "5                        Drama            2.4         7    Damion Stevenson   \n",
       "6                     Thriller            2.8       186        Micho Rutare   \n",
       "7           Crime,Drama,Horror            3.0      3092        Tara Subkoff   \n",
       "8                       Comedy            5.1       425        David Cornue   \n",
       "9  Biography,Documentary,Music            9.2        66    Michael Goldfine   \n",
       "\n",
       "                primary_profession  \n",
       "0         producer,writer,director  \n",
       "1         producer,director,editor  \n",
       "2          actress,producer,writer  \n",
       "3         producer,writer,director  \n",
       "4  writer,producer,cinematographer  \n",
       "5       actor,writer,miscellaneous  \n",
       "6    miscellaneous,writer,director  \n",
       "7        actress,producer,director  \n",
       "8         producer,writer,composer  \n",
       "9         producer,director,writer  "
      ]
     },
     "execution_count": 138,
     "metadata": {},
     "output_type": "execute_result"
    }
   ],
   "source": [
    "df.head(10)"
   ]
  },
  {
   "cell_type": "code",
   "execution_count": 139,
   "metadata": {},
   "outputs": [],
   "source": [
    "df.original_title = df.original_title.str.lower()\n",
    "df.genres = df.genres.str.lower()"
   ]
  },
  {
   "cell_type": "code",
   "execution_count": 140,
   "metadata": {},
   "outputs": [],
   "source": [
    "df.runtime_minutes = df.runtime_minutes.fillna(df.runtime_minutes.mean())\n"
   ]
  },
  {
   "cell_type": "code",
   "execution_count": 141,
   "metadata": {},
   "outputs": [],
   "source": [
    "df = df.rename(columns={'original_title': 'movie',\n",
    "                        'start_year':'release_year'})"
   ]
  },
  {
   "cell_type": "code",
   "execution_count": 142,
   "metadata": {},
   "outputs": [],
   "source": [
    "df = df.dropna(subset=['genres', 'primary_profession'])\n"
   ]
  },
  {
   "cell_type": "code",
   "execution_count": 143,
   "metadata": {},
   "outputs": [
    {
     "data": {
      "text/plain": [
       "11264    2010\n",
       "15792    2010\n",
       "15790    2010\n",
       "4115     2010\n",
       "15776    2010\n",
       "         ... \n",
       "5400     2019\n",
       "21740    2019\n",
       "13828    2019\n",
       "5443     2019\n",
       "19364    2019\n",
       "Name: release_year, Length: 22463, dtype: int64"
      ]
     },
     "execution_count": 143,
     "metadata": {},
     "output_type": "execute_result"
    }
   ],
   "source": [
    "df.release_year.sort_values(ascending=True)"
   ]
  },
  {
   "cell_type": "markdown",
   "metadata": {},
   "source": [
    "Exploring table genre to define top 10 genres by revenue during 2010-2023"
   ]
  },
  {
   "cell_type": "code",
   "execution_count": 144,
   "metadata": {},
   "outputs": [],
   "source": [
    "genres_top.genre = genres_top.genre.str.lower()"
   ]
  },
  {
   "cell_type": "markdown",
   "metadata": {},
   "source": [
    "Converting \"gross\" and \"ticket\" to float type"
   ]
  },
  {
   "cell_type": "code",
   "execution_count": 145,
   "metadata": {},
   "outputs": [],
   "source": [
    "genres_top.gross = genres_top.gross.str.replace(r'[\\$,]', '').str.strip().astype(float)\n",
    "genres_top.tickets = genres_top.tickets.str.replace(r'[\\$,]', '').str.strip().astype(float)"
   ]
  },
  {
   "cell_type": "markdown",
   "metadata": {},
   "source": [
    "Top 10 genres during 2010-2023 period of time"
   ]
  },
  {
   "cell_type": "code",
   "execution_count": 146,
   "metadata": {},
   "outputs": [
    {
     "name": "stdout",
     "output_type": "stream",
     "text": [
      "genre\n",
      "action               28.26\n",
      "adventure            27.42\n",
      "drama                12.90\n",
      "comedy               10.49\n",
      "thriller/suspense     8.20\n",
      "horror                6.25\n",
      "musical               2.32\n",
      "romantic comedy       2.29\n",
      "black comedy          1.09\n",
      "documentary           0.77\n",
      "Name: gross, dtype: float64\n"
     ]
    }
   ],
   "source": [
    "top_10 = genres_top.groupby('genre')['gross'].sum().sort_values(ascending=False).head(10)\n",
    "total_sum = top_10.sum()\n",
    "percentage_values = (top_10 / total_sum) * 100\n",
    "print(round(percentage_values,2))"
   ]
  },
  {
   "cell_type": "markdown",
   "metadata": {},
   "source": [
    "Preprocessing table movie_budget"
   ]
  },
  {
   "cell_type": "code",
   "execution_count": 147,
   "metadata": {},
   "outputs": [],
   "source": [
    "movie_budget.release_date = pd.to_datetime(movie_budget.release_date)"
   ]
  },
  {
   "cell_type": "code",
   "execution_count": 148,
   "metadata": {},
   "outputs": [],
   "source": [
    "movie_budget.movie = movie_budget.movie.str.lower()"
   ]
  },
  {
   "cell_type": "code",
   "execution_count": 149,
   "metadata": {},
   "outputs": [],
   "source": [
    "movie_budget = movie_budget[movie_budget.release_date >= '2010-01-01']"
   ]
  },
  {
   "cell_type": "code",
   "execution_count": 150,
   "metadata": {},
   "outputs": [],
   "source": [
    "movie_budget.production_budget = movie_budget.production_budget.str.replace(r'[\\$,]', '').str.strip().astype(float)\n",
    "movie_budget.domestic_gross= movie_budget.domestic_gross.str.replace(r'[\\$,]', '').str.strip().astype(float)"
   ]
  },
  {
   "cell_type": "code",
   "execution_count": 151,
   "metadata": {},
   "outputs": [],
   "source": [
    "movie_budget = movie_budget.drop(columns=['id',\n",
    "                                          'worldwide_gross',\n",
    "                                          'release_date'])"
   ]
  },
  {
   "cell_type": "code",
   "execution_count": 152,
   "metadata": {},
   "outputs": [],
   "source": [
    "movie_budget.movie = movie_budget.movie.str.lower()"
   ]
  },
  {
   "cell_type": "markdown",
   "metadata": {},
   "source": [
    "Preprocessing table theatre_weekend"
   ]
  },
  {
   "cell_type": "code",
   "execution_count": 153,
   "metadata": {},
   "outputs": [],
   "source": [
    "theatre_weekend = theatre_weekend.drop(columns=[\n",
    "    'year', 'rank'])"
   ]
  },
  {
   "cell_type": "code",
   "execution_count": 154,
   "metadata": {},
   "outputs": [],
   "source": [
    "theatre_weekend.movie = theatre_weekend.movie.str.lower()"
   ]
  },
  {
   "cell_type": "code",
   "execution_count": 155,
   "metadata": {},
   "outputs": [],
   "source": [
    "theatre_weekend = theatre_weekend.dropna(subset=['domestic_box_office',\n",
    "                               'opening_weekend_box_office',\n",
    "                               'movie', \n",
    "                               ])"
   ]
  },
  {
   "cell_type": "code",
   "execution_count": 156,
   "metadata": {},
   "outputs": [],
   "source": [
    "theatre_weekend.distributor = theatre_weekend.distributor.fillna(\"No Distributor\")"
   ]
  },
  {
   "cell_type": "markdown",
   "metadata": {},
   "source": [
    "Preprocessing table movie_tmdb"
   ]
  },
  {
   "cell_type": "code",
   "execution_count": 157,
   "metadata": {},
   "outputs": [],
   "source": [
    "movie_tmdb.release_date = pd.to_datetime(movie_tmdb.release_date)"
   ]
  },
  {
   "cell_type": "code",
   "execution_count": 158,
   "metadata": {},
   "outputs": [],
   "source": [
    "movie_tmdb = movie_tmdb[movie_tmdb.release_date >= '2010-01-01']"
   ]
  },
  {
   "cell_type": "code",
   "execution_count": 159,
   "metadata": {},
   "outputs": [],
   "source": [
    "movie_tmdb = movie_tmdb.drop(columns=[\n",
    "    'Unnamed: 0', 'genre_ids', 'id', 'original_language',\n",
    "    'original_title'\n",
    "])"
   ]
  },
  {
   "cell_type": "code",
   "execution_count": 160,
   "metadata": {},
   "outputs": [],
   "source": [
    "movie_tmdb.title = movie_tmdb.title.str.lower()\n",
    "movie_tmdb =movie_tmdb.rename(columns={'title':'movie'})"
   ]
  },
  {
   "cell_type": "code",
   "execution_count": 161,
   "metadata": {},
   "outputs": [],
   "source": [
    "# data = data.drop(columns=[\n",
    "#     'movie_odid', 'production_budget', 'domestic_box_office',\n",
    "#     'international_box_office'\n",
    "# ])"
   ]
  },
  {
   "cell_type": "code",
   "execution_count": 162,
   "metadata": {},
   "outputs": [],
   "source": [
    "# data.movie_name = data.movie_name.str.lower()\n",
    "# data = data.rename(columns={'movie_name':'movie'})"
   ]
  },
  {
   "cell_type": "markdown",
   "metadata": {},
   "source": [
    "Creating a master table.  \n",
    "Merging df(imported from database) with:\n",
    "- movie_budget\n",
    "- theatre_weekend\n",
    "- movie_tmbd\n",
    "- data"
   ]
  },
  {
   "cell_type": "code",
   "execution_count": 163,
   "metadata": {},
   "outputs": [],
   "source": [
    "movie_budget.movie = movie_budget.movie.str.replace(r'[/\\,.:;<>|\"\"!?@&*()]', '').str.strip()\n",
    "df.movie = df.movie.str.replace(r'[/\\,.:;<>|\"\"!?@&*()]', '').str.strip()\n",
    "movie_tmdb.movie = movie_tmdb.movie.str.replace(r'[/\\,.:;<>|\"\"!?@&*()]', '').str.strip()\n",
    "theatre_weekend.movie = theatre_weekend.movie.str.replace(r'[/\\,.:;<>|\"\"!?@&*()]', '').str.strip()"
   ]
  },
  {
   "cell_type": "code",
   "execution_count": 164,
   "metadata": {},
   "outputs": [
    {
     "name": "stdout",
     "output_type": "stream",
     "text": [
      "<class 'pandas.core.frame.DataFrame'>\n",
      "Int64Index: 22463 entries, 0 to 22533\n",
      "Data columns (total 8 columns):\n",
      " #   Column              Non-Null Count  Dtype  \n",
      "---  ------              --------------  -----  \n",
      " 0   movie               22463 non-null  object \n",
      " 1   release_year        22463 non-null  int64  \n",
      " 2   runtime_minutes     22463 non-null  float64\n",
      " 3   genres              22463 non-null  object \n",
      " 4   averagerating       22463 non-null  float64\n",
      " 5   numvotes            22463 non-null  int64  \n",
      " 6   primary_name        22463 non-null  object \n",
      " 7   primary_profession  22463 non-null  object \n",
      "dtypes: float64(2), int64(2), object(4)\n",
      "memory usage: 1.5+ MB\n",
      "\n",
      "<class 'pandas.core.frame.DataFrame'>\n",
      "Int64Index: 26291 entries, 0 to 26516\n",
      "Data columns (total 5 columns):\n",
      " #   Column        Non-Null Count  Dtype         \n",
      "---  ------        --------------  -----         \n",
      " 0   popularity    26291 non-null  float64       \n",
      " 1   release_date  26291 non-null  datetime64[ns]\n",
      " 2   movie         26291 non-null  object        \n",
      " 3   vote_average  26291 non-null  float64       \n",
      " 4   vote_count    26291 non-null  int64         \n",
      "dtypes: datetime64[ns](1), float64(2), int64(1), object(1)\n",
      "memory usage: 1.2+ MB\n",
      "\n",
      "<class 'pandas.core.frame.DataFrame'>\n",
      "Int64Index: 2194 entries, 1 to 5780\n",
      "Data columns (total 3 columns):\n",
      " #   Column             Non-Null Count  Dtype  \n",
      "---  ------             --------------  -----  \n",
      " 0   movie              2194 non-null   object \n",
      " 1   production_budget  2194 non-null   float64\n",
      " 2   domestic_gross     2194 non-null   float64\n",
      "dtypes: float64(2), object(1)\n",
      "memory usage: 68.6+ KB\n",
      "\n",
      "<class 'pandas.core.frame.DataFrame'>\n",
      "RangeIndex: 186 entries, 0 to 185\n",
      "Data columns (total 7 columns):\n",
      " #   Column   Non-Null Count  Dtype  \n",
      "---  ------   --------------  -----  \n",
      " 0   year     186 non-null    int64  \n",
      " 1   rank     186 non-null    int64  \n",
      " 2   genre    186 non-null    object \n",
      " 3   movies   186 non-null    int64  \n",
      " 4   gross    186 non-null    float64\n",
      " 5   tickets  186 non-null    float64\n",
      " 6   share    186 non-null    object \n",
      "dtypes: float64(2), int64(3), object(2)\n",
      "memory usage: 10.3+ KB\n",
      "\n",
      "<class 'pandas.core.frame.DataFrame'>\n",
      "Int64Index: 6703 entries, 0 to 7403\n",
      "Data columns (total 5 columns):\n",
      " #   Column                      Non-Null Count  Dtype \n",
      "---  ------                      --------------  ----- \n",
      " 0   movie                       6703 non-null   object\n",
      " 1   distributor                 6703 non-null   object\n",
      " 2   domestic_box_office         6703 non-null   object\n",
      " 3   opening_weekend_box_office  6703 non-null   object\n",
      " 4   max_theatre_count           6702 non-null   object\n",
      "dtypes: object(5)\n",
      "memory usage: 314.2+ KB\n",
      "\n"
     ]
    }
   ],
   "source": [
    "dataset_new = [df, movie_tmdb, movie_budget,genres_top, theatre_weekend]\n",
    "for i in dataset_new:\n",
    "    i.info()\n",
    "    print()"
   ]
  },
  {
   "cell_type": "code",
   "execution_count": 165,
   "metadata": {},
   "outputs": [],
   "source": [
    "# !pip install fuzzywuzzy\n",
    "# from fuzzywuzzy import fuzz\n",
    "\n",
    "\n",
    "# def find_similar_values(col1, col2):\n",
    "#     for name1 in movie_budget[col1]:\n",
    "#         for name2 in theatre_weekend[col2]:\n",
    "#             if fuzz.partial_ratio(name1, name2) > 80:\n",
    "#                 print(f\"Similar values found: {name1} and {name2}\")\n",
    "\n",
    "# # Using the function to find similar values\n",
    "# find_similar_values('movie', 'movie')"
   ]
  },
  {
   "cell_type": "code",
   "execution_count": 166,
   "metadata": {},
   "outputs": [],
   "source": [
    "# merge_1 = pd.merge(movie_tmdb, df, how='left', on=\"movie\")\n",
    "# merge_2 = pd.merge(merge_1,theatre_weekend, how='left', on=\"movie\")\n",
    "# data1 = pd.merge(merge_2,movie_budget, how='left', on=\"movie\")\n",
    "\n"
   ]
  },
  {
   "cell_type": "code",
   "execution_count": 167,
   "metadata": {},
   "outputs": [],
   "source": [
    "merge_1 = pd.merge(movie_tmdb, df, on=\"movie\")\n",
    "merge_2 = pd.merge(merge_1,theatre_weekend, on=\"movie\")\n",
    "data = pd.merge(merge_2,movie_budget, on=\"movie\")"
   ]
  },
  {
   "cell_type": "code",
   "execution_count": 168,
   "metadata": {},
   "outputs": [
    {
     "name": "stdout",
     "output_type": "stream",
     "text": [
      "<class 'pandas.core.frame.DataFrame'>\n",
      "Int64Index: 1648 entries, 0 to 1647\n",
      "Data columns (total 18 columns):\n",
      " #   Column                      Non-Null Count  Dtype         \n",
      "---  ------                      --------------  -----         \n",
      " 0   popularity                  1648 non-null   float64       \n",
      " 1   release_date                1648 non-null   datetime64[ns]\n",
      " 2   movie                       1648 non-null   object        \n",
      " 3   vote_average                1648 non-null   float64       \n",
      " 4   vote_count                  1648 non-null   int64         \n",
      " 5   release_year                1648 non-null   int64         \n",
      " 6   runtime_minutes             1648 non-null   float64       \n",
      " 7   genres                      1648 non-null   object        \n",
      " 8   averagerating               1648 non-null   float64       \n",
      " 9   numvotes                    1648 non-null   int64         \n",
      " 10  primary_name                1648 non-null   object        \n",
      " 11  primary_profession          1648 non-null   object        \n",
      " 12  distributor                 1648 non-null   object        \n",
      " 13  domestic_box_office         1648 non-null   object        \n",
      " 14  opening_weekend_box_office  1648 non-null   object        \n",
      " 15  max_theatre_count           1648 non-null   object        \n",
      " 16  production_budget           1648 non-null   float64       \n",
      " 17  domestic_gross              1648 non-null   float64       \n",
      "dtypes: datetime64[ns](1), float64(6), int64(3), object(8)\n",
      "memory usage: 244.6+ KB\n"
     ]
    }
   ],
   "source": [
    "data.info()"
   ]
  },
  {
   "cell_type": "code",
   "execution_count": 169,
   "metadata": {},
   "outputs": [
    {
     "data": {
      "text/html": [
       "<div>\n",
       "<style scoped>\n",
       "    .dataframe tbody tr th:only-of-type {\n",
       "        vertical-align: middle;\n",
       "    }\n",
       "\n",
       "    .dataframe tbody tr th {\n",
       "        vertical-align: top;\n",
       "    }\n",
       "\n",
       "    .dataframe thead th {\n",
       "        text-align: right;\n",
       "    }\n",
       "</style>\n",
       "<table border=\"1\" class=\"dataframe\">\n",
       "  <thead>\n",
       "    <tr style=\"text-align: right;\">\n",
       "      <th></th>\n",
       "      <th>popularity</th>\n",
       "      <th>release_date</th>\n",
       "      <th>movie</th>\n",
       "      <th>vote_average</th>\n",
       "      <th>vote_count</th>\n",
       "      <th>release_year</th>\n",
       "      <th>runtime_minutes</th>\n",
       "      <th>genres</th>\n",
       "      <th>averagerating</th>\n",
       "      <th>numvotes</th>\n",
       "      <th>primary_name</th>\n",
       "      <th>primary_profession</th>\n",
       "      <th>distributor</th>\n",
       "      <th>domestic_box_office</th>\n",
       "      <th>opening_weekend_box_office</th>\n",
       "      <th>max_theatre_count</th>\n",
       "      <th>production_budget</th>\n",
       "      <th>domestic_gross</th>\n",
       "    </tr>\n",
       "  </thead>\n",
       "  <tbody>\n",
       "    <tr>\n",
       "      <th>0</th>\n",
       "      <td>28.734</td>\n",
       "      <td>2010-03-26</td>\n",
       "      <td>how to train your dragon</td>\n",
       "      <td>7.7</td>\n",
       "      <td>7610</td>\n",
       "      <td>2010</td>\n",
       "      <td>98.0</td>\n",
       "      <td>action,adventure,animation</td>\n",
       "      <td>8.1</td>\n",
       "      <td>611299</td>\n",
       "      <td>William Davies</td>\n",
       "      <td>writer,producer,miscellaneous</td>\n",
       "      <td>Paramount…</td>\n",
       "      <td>217581232</td>\n",
       "      <td>43732319</td>\n",
       "      <td>4060</td>\n",
       "      <td>165000000.0</td>\n",
       "      <td>217581232.0</td>\n",
       "    </tr>\n",
       "    <tr>\n",
       "      <th>1</th>\n",
       "      <td>28.515</td>\n",
       "      <td>2010-05-07</td>\n",
       "      <td>iron man 2</td>\n",
       "      <td>6.8</td>\n",
       "      <td>12368</td>\n",
       "      <td>2010</td>\n",
       "      <td>124.0</td>\n",
       "      <td>action,adventure,sci-fi</td>\n",
       "      <td>7.0</td>\n",
       "      <td>657690</td>\n",
       "      <td>Jack Kirby</td>\n",
       "      <td>writer,animation_department,miscellaneous</td>\n",
       "      <td>Paramount…</td>\n",
       "      <td>312433331</td>\n",
       "      <td>128122480</td>\n",
       "      <td>4390</td>\n",
       "      <td>170000000.0</td>\n",
       "      <td>312433331.0</td>\n",
       "    </tr>\n",
       "    <tr>\n",
       "      <th>2</th>\n",
       "      <td>27.920</td>\n",
       "      <td>2010-07-16</td>\n",
       "      <td>inception</td>\n",
       "      <td>8.3</td>\n",
       "      <td>22186</td>\n",
       "      <td>2010</td>\n",
       "      <td>148.0</td>\n",
       "      <td>action,adventure,sci-fi</td>\n",
       "      <td>8.8</td>\n",
       "      <td>1841066</td>\n",
       "      <td>Christopher Nolan</td>\n",
       "      <td>writer,producer,director</td>\n",
       "      <td>Warner Bros.</td>\n",
       "      <td>292576195</td>\n",
       "      <td>62785337</td>\n",
       "      <td>3792</td>\n",
       "      <td>160000000.0</td>\n",
       "      <td>292576195.0</td>\n",
       "    </tr>\n",
       "    <tr>\n",
       "      <th>3</th>\n",
       "      <td>26.691</td>\n",
       "      <td>2010-02-11</td>\n",
       "      <td>percy jackson  the olympians the lightning thief</td>\n",
       "      <td>6.1</td>\n",
       "      <td>4229</td>\n",
       "      <td>2010</td>\n",
       "      <td>118.0</td>\n",
       "      <td>adventure,family,fantasy</td>\n",
       "      <td>5.9</td>\n",
       "      <td>165108</td>\n",
       "      <td>Craig Titley</td>\n",
       "      <td>producer,writer,miscellaneous</td>\n",
       "      <td>20th Cent…</td>\n",
       "      <td>88768303</td>\n",
       "      <td>31236067</td>\n",
       "      <td>3396</td>\n",
       "      <td>95000000.0</td>\n",
       "      <td>88768303.0</td>\n",
       "    </tr>\n",
       "    <tr>\n",
       "      <th>4</th>\n",
       "      <td>24.445</td>\n",
       "      <td>2010-06-17</td>\n",
       "      <td>toy story 3</td>\n",
       "      <td>7.7</td>\n",
       "      <td>8340</td>\n",
       "      <td>2010</td>\n",
       "      <td>103.0</td>\n",
       "      <td>adventure,animation,comedy</td>\n",
       "      <td>8.3</td>\n",
       "      <td>682218</td>\n",
       "      <td>Andrew Stanton</td>\n",
       "      <td>writer,actor,producer</td>\n",
       "      <td>Walt Disney</td>\n",
       "      <td>415004880</td>\n",
       "      <td>110307189</td>\n",
       "      <td>4028</td>\n",
       "      <td>200000000.0</td>\n",
       "      <td>415004880.0</td>\n",
       "    </tr>\n",
       "  </tbody>\n",
       "</table>\n",
       "</div>"
      ],
      "text/plain": [
       "   popularity release_date                                             movie  \\\n",
       "0      28.734   2010-03-26                          how to train your dragon   \n",
       "1      28.515   2010-05-07                                        iron man 2   \n",
       "2      27.920   2010-07-16                                         inception   \n",
       "3      26.691   2010-02-11  percy jackson  the olympians the lightning thief   \n",
       "4      24.445   2010-06-17                                       toy story 3   \n",
       "\n",
       "   vote_average  vote_count  release_year  runtime_minutes  \\\n",
       "0           7.7        7610          2010             98.0   \n",
       "1           6.8       12368          2010            124.0   \n",
       "2           8.3       22186          2010            148.0   \n",
       "3           6.1        4229          2010            118.0   \n",
       "4           7.7        8340          2010            103.0   \n",
       "\n",
       "                       genres  averagerating  numvotes       primary_name  \\\n",
       "0  action,adventure,animation            8.1    611299     William Davies   \n",
       "1     action,adventure,sci-fi            7.0    657690         Jack Kirby   \n",
       "2     action,adventure,sci-fi            8.8   1841066  Christopher Nolan   \n",
       "3    adventure,family,fantasy            5.9    165108       Craig Titley   \n",
       "4  adventure,animation,comedy            8.3    682218     Andrew Stanton   \n",
       "\n",
       "                          primary_profession   distributor  \\\n",
       "0              writer,producer,miscellaneous    Paramount…   \n",
       "1  writer,animation_department,miscellaneous    Paramount…   \n",
       "2                   writer,producer,director  Warner Bros.   \n",
       "3              producer,writer,miscellaneous    20th Cent…   \n",
       "4                      writer,actor,producer   Walt Disney   \n",
       "\n",
       "  domestic_box_office opening_weekend_box_office max_theatre_count  \\\n",
       "0           217581232                   43732319              4060   \n",
       "1           312433331                  128122480              4390   \n",
       "2           292576195                   62785337              3792   \n",
       "3            88768303                   31236067              3396   \n",
       "4           415004880                  110307189              4028   \n",
       "\n",
       "   production_budget  domestic_gross  \n",
       "0        165000000.0     217581232.0  \n",
       "1        170000000.0     312433331.0  \n",
       "2        160000000.0     292576195.0  \n",
       "3         95000000.0      88768303.0  \n",
       "4        200000000.0     415004880.0  "
      ]
     },
     "execution_count": 169,
     "metadata": {},
     "output_type": "execute_result"
    }
   ],
   "source": [
    "data.head()"
   ]
  },
  {
   "cell_type": "markdown",
   "metadata": {},
   "source": [
    "We are dropping dublicates,reordering columns, correct their names, convert datatypes to the appropriate types."
   ]
  },
  {
   "cell_type": "code",
   "execution_count": 170,
   "metadata": {},
   "outputs": [],
   "source": [
    "data = data.drop(columns=['release_year', 'domestic_gross'])"
   ]
  },
  {
   "cell_type": "code",
   "execution_count": 171,
   "metadata": {},
   "outputs": [],
   "source": [
    "data  = data.rename(columns={'averagerating':'average_rating', 'numvotes':'num_votes'})"
   ]
  },
  {
   "cell_type": "code",
   "execution_count": 172,
   "metadata": {},
   "outputs": [
    {
     "data": {
      "text/plain": [
       "133"
      ]
     },
     "execution_count": 172,
     "metadata": {},
     "output_type": "execute_result"
    }
   ],
   "source": [
    "data.duplicated().sum()"
   ]
  },
  {
   "cell_type": "code",
   "execution_count": 173,
   "metadata": {},
   "outputs": [],
   "source": [
    "data = data.drop_duplicates()"
   ]
  },
  {
   "cell_type": "code",
   "execution_count": 174,
   "metadata": {},
   "outputs": [],
   "source": [
    "data.runtime_minutes = data.runtime_minutes.astype('int64')\n",
    "data.domestic_box_office = data.domestic_box_office.astype('int64')\n",
    "data.opening_weekend_box_office = data.opening_weekend_box_office.astype('int64')\n",
    "data.max_theatre_count = data.max_theatre_count.astype('int64')\n",
    "data.production_budget = data.production_budget.astype('int64')\n"
   ]
  },
  {
   "cell_type": "code",
   "execution_count": 175,
   "metadata": {},
   "outputs": [],
   "source": [
    "\n",
    "data['rio_percentage'] = (data['domestic_box_office'] / data['production_budget']) * 100\n",
    "data['rio_percentage'] = data['rio_percentage'].astype('int64')\n",
    "data['multiplier'] = round((data['domestic_box_office'] / data['opening_weekend_box_office']), 1)\n",
    "data['popularity'] = round((data['popularity']), 1)"
   ]
  },
  {
   "cell_type": "code",
   "execution_count": 176,
   "metadata": {},
   "outputs": [
    {
     "data": {
      "text/html": [
       "<div>\n",
       "<style scoped>\n",
       "    .dataframe tbody tr th:only-of-type {\n",
       "        vertical-align: middle;\n",
       "    }\n",
       "\n",
       "    .dataframe tbody tr th {\n",
       "        vertical-align: top;\n",
       "    }\n",
       "\n",
       "    .dataframe thead th {\n",
       "        text-align: right;\n",
       "    }\n",
       "</style>\n",
       "<table border=\"1\" class=\"dataframe\">\n",
       "  <thead>\n",
       "    <tr style=\"text-align: right;\">\n",
       "      <th></th>\n",
       "      <th>popularity</th>\n",
       "      <th>release_date</th>\n",
       "      <th>movie</th>\n",
       "      <th>vote_average</th>\n",
       "      <th>vote_count</th>\n",
       "      <th>runtime_minutes</th>\n",
       "      <th>genres</th>\n",
       "      <th>average_rating</th>\n",
       "      <th>num_votes</th>\n",
       "      <th>primary_name</th>\n",
       "      <th>primary_profession</th>\n",
       "      <th>distributor</th>\n",
       "      <th>domestic_box_office</th>\n",
       "      <th>opening_weekend_box_office</th>\n",
       "      <th>max_theatre_count</th>\n",
       "      <th>production_budget</th>\n",
       "      <th>rio_percentage</th>\n",
       "      <th>multiplier</th>\n",
       "    </tr>\n",
       "  </thead>\n",
       "  <tbody>\n",
       "    <tr>\n",
       "      <th>0</th>\n",
       "      <td>28.7</td>\n",
       "      <td>2010-03-26</td>\n",
       "      <td>how to train your dragon</td>\n",
       "      <td>7.7</td>\n",
       "      <td>7610</td>\n",
       "      <td>98</td>\n",
       "      <td>action,adventure,animation</td>\n",
       "      <td>8.1</td>\n",
       "      <td>611299</td>\n",
       "      <td>William Davies</td>\n",
       "      <td>writer,producer,miscellaneous</td>\n",
       "      <td>Paramount…</td>\n",
       "      <td>217581232</td>\n",
       "      <td>43732319</td>\n",
       "      <td>4060</td>\n",
       "      <td>165000000</td>\n",
       "      <td>131</td>\n",
       "      <td>5.0</td>\n",
       "    </tr>\n",
       "    <tr>\n",
       "      <th>1</th>\n",
       "      <td>28.5</td>\n",
       "      <td>2010-05-07</td>\n",
       "      <td>iron man 2</td>\n",
       "      <td>6.8</td>\n",
       "      <td>12368</td>\n",
       "      <td>124</td>\n",
       "      <td>action,adventure,sci-fi</td>\n",
       "      <td>7.0</td>\n",
       "      <td>657690</td>\n",
       "      <td>Jack Kirby</td>\n",
       "      <td>writer,animation_department,miscellaneous</td>\n",
       "      <td>Paramount…</td>\n",
       "      <td>312433331</td>\n",
       "      <td>128122480</td>\n",
       "      <td>4390</td>\n",
       "      <td>170000000</td>\n",
       "      <td>183</td>\n",
       "      <td>2.4</td>\n",
       "    </tr>\n",
       "    <tr>\n",
       "      <th>2</th>\n",
       "      <td>27.9</td>\n",
       "      <td>2010-07-16</td>\n",
       "      <td>inception</td>\n",
       "      <td>8.3</td>\n",
       "      <td>22186</td>\n",
       "      <td>148</td>\n",
       "      <td>action,adventure,sci-fi</td>\n",
       "      <td>8.8</td>\n",
       "      <td>1841066</td>\n",
       "      <td>Christopher Nolan</td>\n",
       "      <td>writer,producer,director</td>\n",
       "      <td>Warner Bros.</td>\n",
       "      <td>292576195</td>\n",
       "      <td>62785337</td>\n",
       "      <td>3792</td>\n",
       "      <td>160000000</td>\n",
       "      <td>182</td>\n",
       "      <td>4.7</td>\n",
       "    </tr>\n",
       "    <tr>\n",
       "      <th>3</th>\n",
       "      <td>26.7</td>\n",
       "      <td>2010-02-11</td>\n",
       "      <td>percy jackson  the olympians the lightning thief</td>\n",
       "      <td>6.1</td>\n",
       "      <td>4229</td>\n",
       "      <td>118</td>\n",
       "      <td>adventure,family,fantasy</td>\n",
       "      <td>5.9</td>\n",
       "      <td>165108</td>\n",
       "      <td>Craig Titley</td>\n",
       "      <td>producer,writer,miscellaneous</td>\n",
       "      <td>20th Cent…</td>\n",
       "      <td>88768303</td>\n",
       "      <td>31236067</td>\n",
       "      <td>3396</td>\n",
       "      <td>95000000</td>\n",
       "      <td>93</td>\n",
       "      <td>2.8</td>\n",
       "    </tr>\n",
       "    <tr>\n",
       "      <th>4</th>\n",
       "      <td>24.4</td>\n",
       "      <td>2010-06-17</td>\n",
       "      <td>toy story 3</td>\n",
       "      <td>7.7</td>\n",
       "      <td>8340</td>\n",
       "      <td>103</td>\n",
       "      <td>adventure,animation,comedy</td>\n",
       "      <td>8.3</td>\n",
       "      <td>682218</td>\n",
       "      <td>Andrew Stanton</td>\n",
       "      <td>writer,actor,producer</td>\n",
       "      <td>Walt Disney</td>\n",
       "      <td>415004880</td>\n",
       "      <td>110307189</td>\n",
       "      <td>4028</td>\n",
       "      <td>200000000</td>\n",
       "      <td>207</td>\n",
       "      <td>3.8</td>\n",
       "    </tr>\n",
       "  </tbody>\n",
       "</table>\n",
       "</div>"
      ],
      "text/plain": [
       "   popularity release_date                                             movie  \\\n",
       "0        28.7   2010-03-26                          how to train your dragon   \n",
       "1        28.5   2010-05-07                                        iron man 2   \n",
       "2        27.9   2010-07-16                                         inception   \n",
       "3        26.7   2010-02-11  percy jackson  the olympians the lightning thief   \n",
       "4        24.4   2010-06-17                                       toy story 3   \n",
       "\n",
       "   vote_average  vote_count  runtime_minutes                      genres  \\\n",
       "0           7.7        7610               98  action,adventure,animation   \n",
       "1           6.8       12368              124     action,adventure,sci-fi   \n",
       "2           8.3       22186              148     action,adventure,sci-fi   \n",
       "3           6.1        4229              118    adventure,family,fantasy   \n",
       "4           7.7        8340              103  adventure,animation,comedy   \n",
       "\n",
       "   average_rating  num_votes       primary_name  \\\n",
       "0             8.1     611299     William Davies   \n",
       "1             7.0     657690         Jack Kirby   \n",
       "2             8.8    1841066  Christopher Nolan   \n",
       "3             5.9     165108       Craig Titley   \n",
       "4             8.3     682218     Andrew Stanton   \n",
       "\n",
       "                          primary_profession   distributor  \\\n",
       "0              writer,producer,miscellaneous    Paramount…   \n",
       "1  writer,animation_department,miscellaneous    Paramount…   \n",
       "2                   writer,producer,director  Warner Bros.   \n",
       "3              producer,writer,miscellaneous    20th Cent…   \n",
       "4                      writer,actor,producer   Walt Disney   \n",
       "\n",
       "   domestic_box_office  opening_weekend_box_office  max_theatre_count  \\\n",
       "0            217581232                    43732319               4060   \n",
       "1            312433331                   128122480               4390   \n",
       "2            292576195                    62785337               3792   \n",
       "3             88768303                    31236067               3396   \n",
       "4            415004880                   110307189               4028   \n",
       "\n",
       "   production_budget  rio_percentage  multiplier  \n",
       "0          165000000             131         5.0  \n",
       "1          170000000             183         2.4  \n",
       "2          160000000             182         4.7  \n",
       "3           95000000              93         2.8  \n",
       "4          200000000             207         3.8  "
      ]
     },
     "execution_count": 176,
     "metadata": {},
     "output_type": "execute_result"
    }
   ],
   "source": [
    "data.head()"
   ]
  },
  {
   "cell_type": "code",
   "execution_count": 177,
   "metadata": {},
   "outputs": [
    {
     "name": "stdout",
     "output_type": "stream",
     "text": [
      "<class 'pandas.core.frame.DataFrame'>\n",
      "Int64Index: 1515 entries, 0 to 1647\n",
      "Data columns (total 18 columns):\n",
      " #   Column                      Non-Null Count  Dtype         \n",
      "---  ------                      --------------  -----         \n",
      " 0   popularity                  1515 non-null   float64       \n",
      " 1   release_date                1515 non-null   datetime64[ns]\n",
      " 2   movie                       1515 non-null   object        \n",
      " 3   vote_average                1515 non-null   float64       \n",
      " 4   vote_count                  1515 non-null   int64         \n",
      " 5   runtime_minutes             1515 non-null   int64         \n",
      " 6   genres                      1515 non-null   object        \n",
      " 7   average_rating              1515 non-null   float64       \n",
      " 8   num_votes                   1515 non-null   int64         \n",
      " 9   primary_name                1515 non-null   object        \n",
      " 10  primary_profession          1515 non-null   object        \n",
      " 11  distributor                 1515 non-null   object        \n",
      " 12  domestic_box_office         1515 non-null   int64         \n",
      " 13  opening_weekend_box_office  1515 non-null   int64         \n",
      " 14  max_theatre_count           1515 non-null   int64         \n",
      " 15  production_budget           1515 non-null   int64         \n",
      " 16  rio_percentage              1515 non-null   int64         \n",
      " 17  multiplier                  1515 non-null   float64       \n",
      "dtypes: datetime64[ns](1), float64(4), int64(8), object(5)\n",
      "memory usage: 224.9+ KB\n"
     ]
    }
   ],
   "source": [
    "data.info()"
   ]
  },
  {
   "cell_type": "code",
   "execution_count": 181,
   "metadata": {},
   "outputs": [],
   "source": [
    "master_data = data[['release_date', 'movie', 'genres', 'vote_count', \n",
    "             'num_votes', 'vote_average','popularity', \n",
    "             'average_rating', 'domestic_box_office', \n",
    "             'production_budget', 'rio_percentage', \n",
    "             'opening_weekend_box_office', 'multiplier',\n",
    "             'max_theatre_count', 'distributor', \n",
    "             'primary_name', 'primary_profession']]"
   ]
  },
  {
   "cell_type": "code",
   "execution_count": 183,
   "metadata": {},
   "outputs": [
    {
     "name": "stdout",
     "output_type": "stream",
     "text": [
      "<class 'pandas.core.frame.DataFrame'>\n",
      "Int64Index: 1515 entries, 0 to 1647\n",
      "Data columns (total 17 columns):\n",
      " #   Column                      Non-Null Count  Dtype         \n",
      "---  ------                      --------------  -----         \n",
      " 0   release_date                1515 non-null   datetime64[ns]\n",
      " 1   movie                       1515 non-null   object        \n",
      " 2   genres                      1515 non-null   object        \n",
      " 3   vote_count                  1515 non-null   int64         \n",
      " 4   num_votes                   1515 non-null   int64         \n",
      " 5   vote_average                1515 non-null   float64       \n",
      " 6   popularity                  1515 non-null   float64       \n",
      " 7   average_rating              1515 non-null   float64       \n",
      " 8   domestic_box_office         1515 non-null   int64         \n",
      " 9   production_budget           1515 non-null   int64         \n",
      " 10  rio_percentage              1515 non-null   int64         \n",
      " 11  opening_weekend_box_office  1515 non-null   int64         \n",
      " 12  multiplier                  1515 non-null   float64       \n",
      " 13  max_theatre_count           1515 non-null   int64         \n",
      " 14  distributor                 1515 non-null   object        \n",
      " 15  primary_name                1515 non-null   object        \n",
      " 16  primary_profession          1515 non-null   object        \n",
      "dtypes: datetime64[ns](1), float64(4), int64(7), object(5)\n",
      "memory usage: 213.0+ KB\n"
     ]
    }
   ],
   "source": [
    "master_data.info()"
   ]
  },
  {
   "cell_type": "code",
   "execution_count": 190,
   "metadata": {},
   "outputs": [],
   "source": [
    "master_data.to_csv('master_data.csv', index=False)"
   ]
  },
  {
   "cell_type": "code",
   "execution_count": 194,
   "metadata": {},
   "outputs": [
    {
     "name": "stdout",
     "output_type": "stream",
     "text": [
      "<class 'pandas.core.frame.DataFrame'>\n",
      "RangeIndex: 1515 entries, 0 to 1514\n",
      "Data columns (total 17 columns):\n",
      " #   Column                      Non-Null Count  Dtype  \n",
      "---  ------                      --------------  -----  \n",
      " 0   release_date                1515 non-null   object \n",
      " 1   movie                       1515 non-null   object \n",
      " 2   genres                      1515 non-null   object \n",
      " 3   vote_count                  1515 non-null   int64  \n",
      " 4   num_votes                   1515 non-null   int64  \n",
      " 5   vote_average                1515 non-null   float64\n",
      " 6   popularity                  1515 non-null   float64\n",
      " 7   average_rating              1515 non-null   float64\n",
      " 8   domestic_box_office         1515 non-null   int64  \n",
      " 9   production_budget           1515 non-null   int64  \n",
      " 10  rio_percentage              1515 non-null   int64  \n",
      " 11  opening_weekend_box_office  1515 non-null   int64  \n",
      " 12  multiplier                  1515 non-null   float64\n",
      " 13  max_theatre_count           1515 non-null   int64  \n",
      " 14  distributor                 1515 non-null   object \n",
      " 15  primary_name                1515 non-null   object \n",
      " 16  primary_profession          1515 non-null   object \n",
      "dtypes: float64(4), int64(7), object(6)\n",
      "memory usage: 201.3+ KB\n"
     ]
    }
   ],
   "source": [
    "master_data = pd.read_csv('master_data.csv')\n",
    "master_data.info()"
   ]
  },
  {
   "cell_type": "code",
   "execution_count": 192,
   "metadata": {},
   "outputs": [],
   "source": [
    "master_dedup = pd.read_csv('master_dedup.csv')"
   ]
  },
  {
   "cell_type": "code",
   "execution_count": 193,
   "metadata": {},
   "outputs": [
    {
     "name": "stdout",
     "output_type": "stream",
     "text": [
      "<class 'pandas.core.frame.DataFrame'>\n",
      "RangeIndex: 1290 entries, 0 to 1289\n",
      "Data columns (total 14 columns):\n",
      " #   Column                       Non-Null Count  Dtype  \n",
      "---  ------                       --------------  -----  \n",
      " 0   movie_name                   1290 non-null   object \n",
      " 1   genres                       1290 non-null   object \n",
      " 2   percentage_ROI_gross_budget  1290 non-null   int64  \n",
      " 3   gross                        1290 non-null   int64  \n",
      " 4   budget                       1290 non-null   int64  \n",
      " 5   average_rating               1290 non-null   float64\n",
      " 6   number_vote                  1290 non-null   float64\n",
      " 7   primary_name                 1290 non-null   object \n",
      " 8   primary_profession           1290 non-null   object \n",
      " 9   release_date                 1290 non-null   object \n",
      " 10  release_year                 1290 non-null   int64  \n",
      " 11  runtime_minutes              1290 non-null   float64\n",
      " 12  distributor                  1290 non-null   object \n",
      " 13  max_theatre_count            1290 non-null   object \n",
      "dtypes: float64(3), int64(4), object(7)\n",
      "memory usage: 141.2+ KB\n"
     ]
    }
   ],
   "source": [
    "df1.info()"
   ]
  },
  {
   "cell_type": "code",
   "execution_count": 195,
   "metadata": {},
   "outputs": [
    {
     "name": "stdout",
     "output_type": "stream",
     "text": [
      "<class 'pandas.core.frame.DataFrame'>\n",
      "RangeIndex: 1515 entries, 0 to 1514\n",
      "Data columns (total 17 columns):\n",
      " #   Column                      Non-Null Count  Dtype  \n",
      "---  ------                      --------------  -----  \n",
      " 0   release_date                1515 non-null   object \n",
      " 1   movie                       1515 non-null   object \n",
      " 2   genres                      1515 non-null   object \n",
      " 3   vote_count                  1515 non-null   int64  \n",
      " 4   num_votes                   1515 non-null   int64  \n",
      " 5   vote_average                1515 non-null   float64\n",
      " 6   popularity                  1515 non-null   float64\n",
      " 7   average_rating              1515 non-null   float64\n",
      " 8   domestic_box_office         1515 non-null   int64  \n",
      " 9   production_budget           1515 non-null   int64  \n",
      " 10  rio_percentage              1515 non-null   int64  \n",
      " 11  opening_weekend_box_office  1515 non-null   int64  \n",
      " 12  multiplier                  1515 non-null   float64\n",
      " 13  max_theatre_count           1515 non-null   int64  \n",
      " 14  distributor                 1515 non-null   object \n",
      " 15  primary_name                1515 non-null   object \n",
      " 16  primary_profession          1515 non-null   object \n",
      "dtypes: float64(4), int64(7), object(6)\n",
      "memory usage: 201.3+ KB\n"
     ]
    }
   ],
   "source": [
    "master_data.info()"
   ]
  },
  {
   "cell_type": "code",
   "execution_count": null,
   "metadata": {},
   "outputs": [],
   "source": []
  }
 ],
 "metadata": {
  "kernelspec": {
   "display_name": "learn-env",
   "language": "python",
   "name": "python3"
  },
  "language_info": {
   "codemirror_mode": {
    "name": "ipython",
    "version": 3
   },
   "file_extension": ".py",
   "mimetype": "text/x-python",
   "name": "python",
   "nbconvert_exporter": "python",
   "pygments_lexer": "ipython3",
   "version": "3.8.5"
  }
 },
 "nbformat": 4,
 "nbformat_minor": 2
}
