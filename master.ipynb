{
 "cells": [
  {
   "cell_type": "markdown",
   "metadata": {},
   "source": [
    "# Movie Analysis\n",
    "\n",
    "![Image Alt Text](images/Film_image_1.png)\n",
    "Credit : geralt from pixabay.com\n"
   ]
  },
  {
   "cell_type": "markdown",
   "metadata": {},
   "source": [
    "# Overview\n",
    "The \"Jelly Movie Studio Project\" embarked on a mission to identify the critical factors associated with achieving the highest Return on Investment (ROI) in the film industry. This comprehensive analysis delved into various datasets, uncovering valuable insights that can guide the strategic decisions of the Jelly Movie Studio."
   ]
  },
  {
   "cell_type": "markdown",
   "metadata": {},
   "source": [
    "# Business Problem\n",
    "\n",
    "Identifying Movie Features Related to the Highest Return on Investment (ROI)\n"
   ]
  },
  {
   "cell_type": "markdown",
   "metadata": {},
   "source": [
    "# Data Understanding\n"
   ]
  },
  {
   "cell_type": "markdown",
   "metadata": {},
   "source": [
    "## Data Sets\n",
    "1. IMDB Movie Database\n",
    "   - (a) Ratings\n",
    "   - (b) People - writers, directors\n",
    "   - (c) Features information\n",
    "2. Box Office Earnings from MOJO\n",
    "3. Movie Budgets from the Numbers"
   ]
  },
  {
   "cell_type": "markdown",
   "metadata": {},
   "source": [
    "## Conditions\n",
    "1. Domestic\n",
    "2. Since 2010\n",
    "3. Box Office Revenue\n",
    "4. Top 10 Genres by Revenue"
   ]
  },
  {
   "cell_type": "markdown",
   "metadata": {},
   "source": [
    "## Data Limitations\n",
    "1. Data Gaps\n",
    "   - (a) Missing Multiple Years\n",
    "   - (b) Sample Size Datasets\n",
    "2. Financial Details\n",
    "   - (a) Streaming Revenue\n",
    "   - (b) Full Budgets\n",
    "   - (c) Final Costs\n",
    "3. Data Cohesion\n",
    "   - Limited Number of Relevant Records When Combining Incomplete Information\n"
   ]
  },
  {
   "cell_type": "markdown",
   "metadata": {},
   "source": [
    "# Data Preparation "
   ]
  },
  {
   "cell_type": "markdown",
   "metadata": {},
   "source": [
    "## Import"
   ]
  },
  {
   "cell_type": "code",
   "execution_count": 1,
   "metadata": {},
   "outputs": [],
   "source": [
    "import pandas as pd\n",
    "import numpy as np\n",
    "from matplotlib import pyplot as plt\n",
    "%matplotlib inline\n",
    "\n",
    "from scipy import stats\n",
    "import seaborn as sns\n",
    "import statsmodels.api as sm\n",
    "from sklearn import linear_model\n",
    "import statsmodels.stats.power as smp\n",
    "import sqlite3\n",
    "import warnings\n",
    "warnings.simplefilter(\"ignore\")\n",
    "\n",
    "import requests\n",
    "from bs4 import BeautifulSoup"
   ]
  },
  {
   "cell_type": "markdown",
   "metadata": {},
   "source": [
    "## Master data set by Andrei and Namsoo"
   ]
  },
  {
   "cell_type": "code",
   "execution_count": 2,
   "metadata": {},
   "outputs": [],
   "source": [
    "# Assign csv files and im.db\n",
    "movie_tmdb = pd.read_csv('zippedData/tmdb.movies.csv.gz')\n",
    "movie_budget = pd.read_csv('zippedData/tn.movie_budgets.csv.gz')\n",
    "theatre_weekend = pd.read_csv('zippedData/weekend_theaters_numbers.csv')\n",
    "conn = sqlite3.connect('zippedData/im.db')"
   ]
  },
  {
   "cell_type": "markdown",
   "metadata": {},
   "source": [
    "### Clean database and tables"
   ]
  },
  {
   "cell_type": "code",
   "execution_count": 3,
   "metadata": {},
   "outputs": [],
   "source": [
    "# Assign database to dataframe\n",
    "sql_query = pd.read_sql_query ('''\n",
    "                               SELECT\n",
    "                               mb.original_title,\n",
    "                               mb.start_year,\n",
    "                               mb.runtime_minutes,\n",
    "                               mb.genres,\n",
    "                               mr.averagerating,\n",
    "                               mr.numvotes,\n",
    "                               p.primary_name,\n",
    "                               p.primary_profession\n",
    "                               FROM movie_akas\n",
    "                               JOIN movie_ratings mr\n",
    "                               USING(movie_id)\n",
    "                               JOIN movie_basics mb\n",
    "                               USING(movie_id)\n",
    "                               JOIN writers\n",
    "                               USING(movie_id)\n",
    "                               JOIN persons p\n",
    "                               USING(person_id)\n",
    "                               WHERE start_year >= 2010\n",
    "                               AND region = 'US'\n",
    "                               GROUP BY primary_title\n",
    "                               ''', conn)\n",
    "\n",
    "df = pd.DataFrame(sql_query, columns = [\n",
    "    'original_title', 'start_year', 'runtime_minutes', \n",
    "    'genres', 'averagerating', 'numvotes',\n",
    "    'primary_name', 'primary_profession']\n",
    ")"
   ]
  },
  {
   "cell_type": "code",
   "execution_count": 4,
   "metadata": {},
   "outputs": [],
   "source": [
    "# Clean original_title by lowering case\n",
    "df.original_title = df.original_title.str.lower()\n",
    "df.genres = df.genres.str.lower()\n",
    "\n",
    "# Fillin missing values of runtime_minutes with mean\n",
    "df.runtime_minutes = df.runtime_minutes.fillna(df.runtime_minutes.mean())\n",
    "\n",
    "# Rename columns\n",
    "df = df.rename(columns={'original_title': 'movie',\n",
    "                        'start_year':'release_year'})\n",
    "\n",
    "# Drop missing values\n",
    "df = df.dropna(subset=['genres', 'primary_profession'])"
   ]
  },
  {
   "cell_type": "code",
   "execution_count": 5,
   "metadata": {},
   "outputs": [],
   "source": [
    "# Clean the movie_budget table\n",
    "movie_budget.release_date = pd.to_datetime(movie_budget.release_date) # Changing datatype for next filtering\n",
    "movie_budget = movie_budget[movie_budget.release_date >= '2010-01-01'] # Filtering target duration\n",
    "movie_budget = movie_budget.drop(columns=['id',\n",
    "                                          'worldwide_gross',\n",
    "                                          'release_date'\n",
    "                                          ]\n",
    "                                          ) # Dropping unrelevant data\n",
    "movie_budget.movie = movie_budget.movie.str.lower() # Lowring title case\n",
    "\n"
   ]
  },
  {
   "cell_type": "code",
   "execution_count": 6,
   "metadata": {},
   "outputs": [],
   "source": [
    "# Clean the theaters_numbers table\n",
    "theatre_weekend = theatre_weekend.drop(columns=['year', 'rank']) # Dropping unrelevant data\n",
    "theatre_weekend = theatre_weekend.dropna(subset=['domestic_box_office',\n",
    "                                                 'opening_weekend_box_office',\n",
    "                                                 'movie', \n",
    "                                                ]\n",
    "                                                ) # Dropping missing values which make noise in analysis\n",
    "theatre_weekend.movie = theatre_weekend.movie.str.lower() # Lowring title case\n",
    "\n",
    "# Fill-in missing values with a correct category\n",
    "theatre_weekend.distributor = theatre_weekend.distributor.fillna(\"No Distributor\") \n",
    "\n"
   ]
  },
  {
   "cell_type": "code",
   "execution_count": 7,
   "metadata": {},
   "outputs": [],
   "source": [
    "# Clean the movie_tmdb table\n",
    "movie_tmdb.release_date = pd.to_datetime(movie_tmdb.release_date) # Changing datatype for next filtering\n",
    "movie_tmdb = movie_tmdb[movie_tmdb.release_date >= '2010-01-01'] # Filtering target duration\n",
    "\n",
    "# Dropping unrelevant data\n",
    "movie_tmdb = movie_tmdb.drop(columns=['Unnamed: 0', \n",
    "                                      'genre_ids', \n",
    "                                      'id', \n",
    "                                      'original_language',\n",
    "                                      'original_title'\n",
    "                                      ]\n",
    "                                      )\n",
    "\n",
    "movie_tmdb.title = movie_tmdb.title.str.lower() # Lowring title case\n",
    "movie_tmdb =movie_tmdb.rename(columns={'title':'movie'}) # Rename a column for merging\n",
    "\n"
   ]
  },
  {
   "cell_type": "markdown",
   "metadata": {},
   "source": [
    "### Merging Data Sets and Making calculations and columns in order"
   ]
  },
  {
   "cell_type": "code",
   "execution_count": 8,
   "metadata": {},
   "outputs": [],
   "source": [
    "# Merging Data Sets using the movie column\n",
    "merge_1 = pd.merge(movie_tmdb, df, on=\"movie\")\n",
    "merge_2 = pd.merge(merge_1,theatre_weekend, on=\"movie\")\n",
    "data = pd.merge(merge_2,movie_budget, on=\"movie\")"
   ]
  },
  {
   "cell_type": "code",
   "execution_count": 9,
   "metadata": {},
   "outputs": [],
   "source": [
    "conn4 = sqlite3.connect('zippedData/master_andrei_sql.db') # Create a sql db and Connect\n",
    "data.to_sql('master_andrei_sql', conn4, if_exists='replace', index=False) # Transform df to db\n",
    "\n",
    "# Making calcumations and columns in order\n",
    "master_crafted = pd.read_sql(\n",
    "    \"\"\"\n",
    "    WITH modified AS \n",
    "    (\n",
    "    SELECT\n",
    "        DISTINCT movie AS movie_name,\n",
    "        CAST(REPLACE(REPLACE(domestic_gross, '$', ''), ',', '') AS FLOAT) AS domestic_gross_numeric,\n",
    "        CAST(REPLACE(REPLACE(production_budget, '$', ''), ',', '') AS FLOAT) AS production_budget_numeric,\n",
    "        CAST(REPLACE(REPLACE(opening_weekend_box_office, '$', ''), ',', '') AS FLOAT) AS opening_weekend_boxoffice,\n",
    "        *\n",
    "    FROM master_andrei_sql\n",
    "    ORDER BY movie\n",
    "    )\n",
    "\n",
    "    SELECT\n",
    "        movie_name,\n",
    "        genres,\n",
    "        ROUND(domestic_gross_numeric/ production_budget_numeric*100, 2) AS percentage_ROI_gross_budget,\n",
    "        domestic_gross_numeric AS gross,\n",
    "        production_budget_numeric AS budget,\n",
    "        opening_weekend_boxoffice,\n",
    "        (vote_average + averagerating)/2 AS average_rating,\n",
    "        ROUND((vote_count + numvotes)/2, 0) AS number_vote,\n",
    "        primary_name,\n",
    "        primary_profession,\n",
    "        release_date,\n",
    "        release_year,\n",
    "        runtime_minutes,\n",
    "        distributor,\n",
    "        max_theatre_count\n",
    "\n",
    "    FROM modified \n",
    "    ORDER BY release_date\n",
    "    ;\n",
    "    \"\"\"\n",
    ", conn4\n",
    ")"
   ]
  },
  {
   "cell_type": "markdown",
   "metadata": {},
   "source": [
    "### Sanity Check of Master Data set and Create a csv master file"
   ]
  },
  {
   "cell_type": "code",
   "execution_count": 10,
   "metadata": {},
   "outputs": [],
   "source": [
    "# de-duplicate on movie_name and release_year\n",
    "master_dedup = master_crafted.drop_duplicates(subset=['movie_name', 'release_year']) \n",
    "\n",
    "master_dedup.to_csv('zippedData/master_dedup_v2.csv', index=False) # Create a csv file for further analysis"
   ]
  },
  {
   "cell_type": "markdown",
   "metadata": {},
   "source": [
    "# Data Analysis"
   ]
  },
  {
   "cell_type": "markdown",
   "metadata": {},
   "source": [
    "## Analysis by Namsoo"
   ]
  },
  {
   "cell_type": "markdown",
   "metadata": {},
   "source": [
    "### Yearly or Monthly Trends of Number of Movies, Budget, Gross, and Opening Weekend Boxoffice"
   ]
  },
  {
   "cell_type": "markdown",
   "metadata": {},
   "source": [
    "#### Data Preparation for Yearly or Monthly Trends"
   ]
  },
  {
   "cell_type": "code",
   "execution_count": 21,
   "metadata": {},
   "outputs": [
    {
     "name": "stdout",
     "output_type": "stream",
     "text": [
      "<class 'pandas.core.frame.DataFrame'>\n",
      "Index: 1290 entries, 0 to 1471\n",
      "Data columns (total 15 columns):\n",
      " #   Column                       Non-Null Count  Dtype  \n",
      "---  ------                       --------------  -----  \n",
      " 0   movie_name                   1290 non-null   object \n",
      " 1   genres                       1290 non-null   object \n",
      " 2   percentage_ROI_gross_budget  1290 non-null   float64\n",
      " 3   gross                        1290 non-null   float64\n",
      " 4   budget                       1290 non-null   float64\n",
      " 5   opening_weekend_boxoffice    1290 non-null   float64\n",
      " 6   average_rating               1290 non-null   float64\n",
      " 7   number_vote                  1290 non-null   float64\n",
      " 8   primary_name                 1290 non-null   object \n",
      " 9   primary_profession           1290 non-null   object \n",
      " 10  release_date                 1290 non-null   object \n",
      " 11  release_year                 1290 non-null   int64  \n",
      " 12  runtime_minutes              1290 non-null   float64\n",
      " 13  distributor                  1290 non-null   object \n",
      " 14  max_theatre_count            1290 non-null   object \n",
      "dtypes: float64(7), int64(1), object(7)\n",
      "memory usage: 161.2+ KB\n"
     ]
    }
   ],
   "source": [
    "master_dedup.info()"
   ]
  },
  {
   "cell_type": "code",
   "execution_count": 22,
   "metadata": {},
   "outputs": [
    {
     "data": {
      "text/plain": [
       "1290"
      ]
     },
     "execution_count": 22,
     "metadata": {},
     "output_type": "execute_result"
    }
   ],
   "source": [
    "# Transform master_dedup to a sql database\n",
    "conn5 = sqlite3.connect('zippedData/master_1.db')\n",
    "master_dedup.to_sql('master_1', conn5, if_exists='replace', index=False)"
   ]
  },
  {
   "cell_type": "code",
   "execution_count": 23,
   "metadata": {},
   "outputs": [],
   "source": [
    "# Extract months from 'release_date' column by using STRFTIME\n",
    "# SELECT AVG()\n",
    "line_graph = pd.read_sql(\n",
    "    \"\"\"\n",
    "    SELECT\n",
    "        STRFTIME('%m', release_date) AS months,\n",
    "        AVG(percentage_ROI_gross_budget) AS avg_ROI,\n",
    "        AVG(gross) AS avg_gross,\n",
    "        AVG(opening_weekend_boxoffice) AS avg_opening_gross,\n",
    "        AVG(budget) AS avg_budget,\n",
    "        COUNT(*) AS number_movie\n",
    "    FROM master_1 \n",
    "    GROUP BY months\n",
    "    ORDER BY months\n",
    "    ;\n",
    "    \"\"\"\n",
    ", conn5\n",
    ")"
   ]
  },
  {
   "cell_type": "code",
   "execution_count": 54,
   "metadata": {},
   "outputs": [
    {
     "data": {
      "text/html": [
       "<div>\n",
       "<style scoped>\n",
       "    .dataframe tbody tr th:only-of-type {\n",
       "        vertical-align: middle;\n",
       "    }\n",
       "\n",
       "    .dataframe tbody tr th {\n",
       "        vertical-align: top;\n",
       "    }\n",
       "\n",
       "    .dataframe thead th {\n",
       "        text-align: right;\n",
       "    }\n",
       "</style>\n",
       "<table border=\"1\" class=\"dataframe\">\n",
       "  <thead>\n",
       "    <tr style=\"text-align: right;\">\n",
       "      <th></th>\n",
       "      <th>years</th>\n",
       "      <th>avg_ROI</th>\n",
       "      <th>avg_gross</th>\n",
       "      <th>avg_opening_gross</th>\n",
       "      <th>avg_budget</th>\n",
       "      <th>number_movie</th>\n",
       "    </tr>\n",
       "  </thead>\n",
       "  <tbody>\n",
       "    <tr>\n",
       "      <th>0</th>\n",
       "      <td>2010</td>\n",
       "      <td>200.000909</td>\n",
       "      <td>6.145796e+07</td>\n",
       "      <td>1.752015e+07</td>\n",
       "      <td>4.672205e+07</td>\n",
       "      <td>165</td>\n",
       "    </tr>\n",
       "    <tr>\n",
       "      <th>1</th>\n",
       "      <td>2011</td>\n",
       "      <td>183.815829</td>\n",
       "      <td>5.296555e+07</td>\n",
       "      <td>1.583070e+07</td>\n",
       "      <td>4.358524e+07</td>\n",
       "      <td>187</td>\n",
       "    </tr>\n",
       "    <tr>\n",
       "      <th>2</th>\n",
       "      <td>2012</td>\n",
       "      <td>273.894837</td>\n",
       "      <td>6.571783e+07</td>\n",
       "      <td>1.974067e+07</td>\n",
       "      <td>4.861235e+07</td>\n",
       "      <td>153</td>\n",
       "    </tr>\n",
       "    <tr>\n",
       "      <th>3</th>\n",
       "      <td>2013</td>\n",
       "      <td>199.444733</td>\n",
       "      <td>6.058434e+07</td>\n",
       "      <td>1.760928e+07</td>\n",
       "      <td>5.110985e+07</td>\n",
       "      <td>150</td>\n",
       "    </tr>\n",
       "    <tr>\n",
       "      <th>4</th>\n",
       "      <td>2014</td>\n",
       "      <td>201.276458</td>\n",
       "      <td>6.414625e+07</td>\n",
       "      <td>1.953153e+07</td>\n",
       "      <td>4.555257e+07</td>\n",
       "      <td>144</td>\n",
       "    </tr>\n",
       "    <tr>\n",
       "      <th>5</th>\n",
       "      <td>2015</td>\n",
       "      <td>357.010797</td>\n",
       "      <td>5.670907e+07</td>\n",
       "      <td>1.762712e+07</td>\n",
       "      <td>4.316051e+07</td>\n",
       "      <td>138</td>\n",
       "    </tr>\n",
       "    <tr>\n",
       "      <th>6</th>\n",
       "      <td>2016</td>\n",
       "      <td>214.776124</td>\n",
       "      <td>6.873269e+07</td>\n",
       "      <td>2.146894e+07</td>\n",
       "      <td>5.023245e+07</td>\n",
       "      <td>129</td>\n",
       "    </tr>\n",
       "    <tr>\n",
       "      <th>7</th>\n",
       "      <td>2017</td>\n",
       "      <td>199.713571</td>\n",
       "      <td>6.530314e+07</td>\n",
       "      <td>1.968499e+07</td>\n",
       "      <td>5.717149e+07</td>\n",
       "      <td>112</td>\n",
       "    </tr>\n",
       "    <tr>\n",
       "      <th>8</th>\n",
       "      <td>2018</td>\n",
       "      <td>220.936545</td>\n",
       "      <td>7.467405e+07</td>\n",
       "      <td>2.291051e+07</td>\n",
       "      <td>4.979727e+07</td>\n",
       "      <td>110</td>\n",
       "    </tr>\n",
       "    <tr>\n",
       "      <th>9</th>\n",
       "      <td>2019</td>\n",
       "      <td>148.690000</td>\n",
       "      <td>5.446788e+07</td>\n",
       "      <td>1.052933e+07</td>\n",
       "      <td>2.275000e+07</td>\n",
       "      <td>2</td>\n",
       "    </tr>\n",
       "  </tbody>\n",
       "</table>\n",
       "</div>"
      ],
      "text/plain": [
       "  years     avg_ROI     avg_gross  avg_opening_gross    avg_budget  \\\n",
       "0  2010  200.000909  6.145796e+07       1.752015e+07  4.672205e+07   \n",
       "1  2011  183.815829  5.296555e+07       1.583070e+07  4.358524e+07   \n",
       "2  2012  273.894837  6.571783e+07       1.974067e+07  4.861235e+07   \n",
       "3  2013  199.444733  6.058434e+07       1.760928e+07  5.110985e+07   \n",
       "4  2014  201.276458  6.414625e+07       1.953153e+07  4.555257e+07   \n",
       "5  2015  357.010797  5.670907e+07       1.762712e+07  4.316051e+07   \n",
       "6  2016  214.776124  6.873269e+07       2.146894e+07  5.023245e+07   \n",
       "7  2017  199.713571  6.530314e+07       1.968499e+07  5.717149e+07   \n",
       "8  2018  220.936545  7.467405e+07       2.291051e+07  4.979727e+07   \n",
       "9  2019  148.690000  5.446788e+07       1.052933e+07  2.275000e+07   \n",
       "\n",
       "   number_movie  \n",
       "0           165  \n",
       "1           187  \n",
       "2           153  \n",
       "3           150  \n",
       "4           144  \n",
       "5           138  \n",
       "6           129  \n",
       "7           112  \n",
       "8           110  \n",
       "9             2  "
      ]
     },
     "execution_count": 54,
     "metadata": {},
     "output_type": "execute_result"
    }
   ],
   "source": [
    "# Extract years from 'release_date' column by using STRFTIME\n",
    "# SELECT AVG()\n",
    "line_graph_year = pd.read_sql(\n",
    "    \"\"\"\n",
    "    SELECT\n",
    "        STRFTIME('%Y', release_date) AS years,\n",
    "        AVG(percentage_ROI_gross_budget) AS avg_ROI,\n",
    "        AVG(gross) AS avg_gross,\n",
    "        AVG(opening_weekend_boxoffice) AS avg_opening_gross,\n",
    "        AVG(budget) AS avg_budget,\n",
    "        COUNT(*) AS number_movie\n",
    "    FROM master_1 \n",
    "    GROUP BY years\n",
    "    ORDER BY years\n",
    "    ;\n",
    "    \"\"\"\n",
    ", conn5\n",
    ")\n",
    "line_graph_year"
   ]
  },
  {
   "cell_type": "code",
   "execution_count": 24,
   "metadata": {},
   "outputs": [
    {
     "name": "stdout",
     "output_type": "stream",
     "text": [
      "<class 'pandas.core.frame.DataFrame'>\n",
      "RangeIndex: 12 entries, 0 to 11\n",
      "Data columns (total 6 columns):\n",
      " #   Column             Non-Null Count  Dtype  \n",
      "---  ------             --------------  -----  \n",
      " 0   months             12 non-null     object \n",
      " 1   avg_ROI            12 non-null     float64\n",
      " 2   avg_gross          12 non-null     float64\n",
      " 3   avg_opening_gross  12 non-null     float64\n",
      " 4   avg_budget         12 non-null     float64\n",
      " 5   number_movie       12 non-null     int64  \n",
      "dtypes: float64(4), int64(1), object(1)\n",
      "memory usage: 704.0+ bytes\n"
     ]
    }
   ],
   "source": [
    "line_graph.info()"
   ]
  },
  {
   "cell_type": "markdown",
   "metadata": {},
   "source": [
    "#### Number of Movies by Year"
   ]
  },
  {
   "cell_type": "code",
   "execution_count": 59,
   "metadata": {},
   "outputs": [
    {
     "data": {
      "image/png": "[encoded data removed]",
      "text/plain": [
       "<Figure size 1000x500 with 1 Axes>"
      ]
     },
     "metadata": {},
     "output_type": "display_data"
    }
   ],
   "source": [
    "# Line graph of number_movie by months\n",
    "fig, ax = plt.subplots(figsize = (10, 5))\n",
    "\n",
    "ax.plot(line_graph_year['years'], line_graph_year['number_movie'], marker='s', linestyle='-')\n",
    "\n",
    "ax.set_yticks(range(0, 201, 20))  # This sets ticks from 0 to 130 in steps of 10\n",
    "ax.set_xlabel('Year')\n",
    "ax.set_ylabel('Number of Movies')\n",
    "ax.set_title('Yearly Movie Count')\n",
    "\n",
    "plt.show();\n",
    "\n",
    "\n"
   ]
  },
  {
   "cell_type": "markdown",
   "metadata": {},
   "source": [
    "#### Average of Budget, Gross, and Opening_Gross by Month"
   ]
  },
  {
   "cell_type": "code",
   "execution_count": 26,
   "metadata": {},
   "outputs": [
    {
     "data": {
      "image/png": "[encoded data removed]",
      "text/plain": [
       "<Figure size 1000x500 with 1 Axes>"
      ]
     },
     "metadata": {},
     "output_type": "display_data"
    }
   ],
   "source": [
    "# Line graph of gross, opening_gross, and budget\n",
    "fig, ax = plt.subplots(figsize = (10, 5))\n",
    "\n",
    "ax.plot(line_graph['months'], line_graph['avg_gross'], label = 'avg_gross', marker='s', markersize=10, linestyle='-', color='red')\n",
    "\n",
    "ax.plot(line_graph['months'], line_graph['avg_opening_gross'], label = 'avg_opening_gross', marker='o', markersize=10, linestyle='-', color='orange')\n",
    "\n",
    "ax.plot(line_graph['months'], line_graph['avg_budget'], label = 'avg_budget', marker='x', markersize=10, linestyle='-', color='blue')\n",
    "\n",
    "ax.set_yticks(range(0, 110000000, 10000000))  # This sets ticks from 0 to 130 in steps of 10\n",
    "ax.set_xlabel('Months')\n",
    "ax.set_ylabel('Average of Budget, Gross, and Opening_Gross')\n",
    "ax.set_title('Monthly Budget, Gross, and Opening_Gross')\n",
    "\n",
    "plt.legend(loc='upper left')\n",
    "\n",
    "plt.show();\n",
    "\n",
    "\n",
    "\n"
   ]
  },
  {
   "cell_type": "markdown",
   "metadata": {},
   "source": [
    "### What Are the Most Profitable Genres?\n",
    "Within our dataset, we have 205 different movie genres. To find out which genres are the most profitable, we will focus on genres that have more than 6 movies which is 75th percentile."
   ]
  },
  {
   "cell_type": "markdown",
   "metadata": {},
   "source": [
    "#### Calculating the number of movies in the 75th percentile"
   ]
  },
  {
   "cell_type": "code",
   "execution_count": 27,
   "metadata": {},
   "outputs": [],
   "source": [
    "number_movies_genres = pd.read_sql(\n",
    "    \"\"\"\n",
    "    SELECT\n",
    "        genres,\n",
    "        COUNT(*) AS number_movie\n",
    "    FROM master_1 \n",
    "    GROUP BY genres\n",
    "    ORDER BY number_movie DESC\n",
    "    ;\n",
    "    \"\"\"\n",
    ", conn5\n",
    ")"
   ]
  },
  {
   "cell_type": "code",
   "execution_count": 28,
   "metadata": {},
   "outputs": [
    {
     "name": "stdout",
     "output_type": "stream",
     "text": [
      "<class 'pandas.core.frame.DataFrame'>\n",
      "RangeIndex: 205 entries, 0 to 204\n",
      "Data columns (total 2 columns):\n",
      " #   Column        Non-Null Count  Dtype \n",
      "---  ------        --------------  ----- \n",
      " 0   genres        205 non-null    object\n",
      " 1   number_movie  205 non-null    int64 \n",
      "dtypes: int64(1), object(1)\n",
      "memory usage: 3.3+ KB\n"
     ]
    }
   ],
   "source": [
    "number_movies_genres.info()"
   ]
  },
  {
   "cell_type": "code",
   "execution_count": 29,
   "metadata": {},
   "outputs": [
    {
     "data": {
      "text/plain": [
       "count    205.000000\n",
       "mean       6.292683\n",
       "std       10.144650\n",
       "min        1.000000\n",
       "25%        1.000000\n",
       "50%        3.000000\n",
       "75%        6.000000\n",
       "max       63.000000\n",
       "Name: number_movie, dtype: float64"
      ]
     },
     "execution_count": 29,
     "metadata": {},
     "output_type": "execute_result"
    }
   ],
   "source": [
    "number_movies_genres['number_movie'].describe()"
   ]
  },
  {
   "cell_type": "markdown",
   "metadata": {},
   "source": [
    "#### Horror releated genres are in top 4 ROI and average of ROI is 942%"
   ]
  },
  {
   "cell_type": "code",
   "execution_count": 64,
   "metadata": {},
   "outputs": [
    {
     "data": {
      "text/html": [
       "<div>\n",
       "<style scoped>\n",
       "    .dataframe tbody tr th:only-of-type {\n",
       "        vertical-align: middle;\n",
       "    }\n",
       "\n",
       "    .dataframe tbody tr th {\n",
       "        vertical-align: top;\n",
       "    }\n",
       "\n",
       "    .dataframe thead th {\n",
       "        text-align: right;\n",
       "    }\n",
       "</style>\n",
       "<table border=\"1\" class=\"dataframe\">\n",
       "  <thead>\n",
       "    <tr style=\"text-align: right;\">\n",
       "      <th></th>\n",
       "      <th>Rank_N</th>\n",
       "      <th>genres</th>\n",
       "      <th>AVG_ROI</th>\n",
       "      <th>Num_Movie</th>\n",
       "    </tr>\n",
       "  </thead>\n",
       "  <tbody>\n",
       "    <tr>\n",
       "      <th>0</th>\n",
       "      <td>1</td>\n",
       "      <td>horror,mystery,thriller</td>\n",
       "      <td>1902.296538</td>\n",
       "      <td>26</td>\n",
       "    </tr>\n",
       "    <tr>\n",
       "      <th>1</th>\n",
       "      <td>2</td>\n",
       "      <td>horror</td>\n",
       "      <td>735.743077</td>\n",
       "      <td>13</td>\n",
       "    </tr>\n",
       "    <tr>\n",
       "      <th>2</th>\n",
       "      <td>3</td>\n",
       "      <td>drama,horror,thriller</td>\n",
       "      <td>582.323333</td>\n",
       "      <td>6</td>\n",
       "    </tr>\n",
       "    <tr>\n",
       "      <th>3</th>\n",
       "      <td>4</td>\n",
       "      <td>horror,thriller</td>\n",
       "      <td>547.683043</td>\n",
       "      <td>23</td>\n",
       "    </tr>\n",
       "  </tbody>\n",
       "</table>\n",
       "</div>"
      ],
      "text/plain": [
       "   Rank_N                   genres      AVG_ROI  Num_Movie\n",
       "0       1  horror,mystery,thriller  1902.296538         26\n",
       "1       2                   horror   735.743077         13\n",
       "2       3    drama,horror,thriller   582.323333          6\n",
       "3       4          horror,thriller   547.683043         23"
      ]
     },
     "execution_count": 64,
     "metadata": {},
     "output_type": "execute_result"
    }
   ],
   "source": [
    "top_4_roi = pd.read_sql(\n",
    "    \"\"\"\n",
    "   WITH gen_roi_num AS \n",
    "   (\n",
    "    SELECT\n",
    "        genres,\n",
    "        AVG(percentage_ROI_gross_budget) AS AVG_ROI,\n",
    "        COUNT(*) AS Num_Movie\n",
    "    FROM master_1 \n",
    "    GROUP BY genres\n",
    "    ORDER BY AVG_ROI DESC\n",
    "    )\n",
    "\n",
    "    SELECT \n",
    "        DENSE_RANK() OVER(ORDER BY AVG_ROI DESC) AS Rank_N,\n",
    "        genres,\n",
    "        AVG_ROI,\n",
    "        Num_Movie\n",
    "        \n",
    "\n",
    "    FROM gen_roi_num\n",
    "    WHERE Num_Movie >= 6 -- Filtering Justification : 6 is 75th percentile value of number of movie for genres\n",
    "    ORDER BY AVG_ROI DESC\n",
    "    LIMIT 4\n",
    "    ;\n",
    "    \"\"\"\n",
    ", conn5\n",
    ")\n",
    "\n",
    "top_4_roi"
   ]
  },
  {
   "cell_type": "code",
   "execution_count": 63,
   "metadata": {},
   "outputs": [
    {
     "data": {
      "text/plain": [
       "942.0114980490524"
      ]
     },
     "execution_count": 63,
     "metadata": {},
     "output_type": "execute_result"
    }
   ],
   "source": [
    "top_4_roi['AVG_ROI'].mean()"
   ]
  },
  {
   "cell_type": "markdown",
   "metadata": {},
   "source": [
    "### What's the right amount of money to spend on making a movie?"
   ]
  },
  {
   "cell_type": "markdown",
   "metadata": {},
   "source": [
    "#### Calculating the ROI in the 75th percentile\n",
    "227 is 75th percentile of percentage of ROI"
   ]
  },
  {
   "cell_type": "code",
   "execution_count": 31,
   "metadata": {},
   "outputs": [],
   "source": [
    "AVG_ROI_genres = pd.read_sql(\n",
    "    \"\"\"\n",
    "    WITH gen_ROI_movie_N AS \n",
    "    (\n",
    "    SELECT\n",
    "        genres,\n",
    "        AVG(percentage_ROI_gross_budget) AS AVG_ROI,\n",
    "        COUNT(*) AS movie_N\n",
    "    FROM master_1 \n",
    "    GROUP BY genres\n",
    "    ORDER BY AVG_ROI DESC\n",
    "    )\n",
    "    SELECT\n",
    "        genres,\n",
    "        AVG_ROI,\n",
    "        movie_N\n",
    "    FROM gen_ROI_movie_N\n",
    "    ORDER BY AVG_ROI DESC\n",
    "    ;\n",
    "    \"\"\"\n",
    ", conn5\n",
    ")"
   ]
  },
  {
   "cell_type": "code",
   "execution_count": 32,
   "metadata": {},
   "outputs": [
    {
     "name": "stdout",
     "output_type": "stream",
     "text": [
      "<class 'pandas.core.frame.DataFrame'>\n",
      "RangeIndex: 205 entries, 0 to 204\n",
      "Data columns (total 3 columns):\n",
      " #   Column   Non-Null Count  Dtype  \n",
      "---  ------   --------------  -----  \n",
      " 0   genres   205 non-null    object \n",
      " 1   AVG_ROI  205 non-null    float64\n",
      " 2   movie_N  205 non-null    int64  \n",
      "dtypes: float64(1), int64(1), object(1)\n",
      "memory usage: 4.9+ KB\n"
     ]
    }
   ],
   "source": [
    "AVG_ROI_genres.info()"
   ]
  },
  {
   "cell_type": "code",
   "execution_count": 33,
   "metadata": {},
   "outputs": [
    {
     "data": {
      "text/plain": [
       "count     205.000000\n",
       "mean      187.176660\n",
       "std       219.826937\n",
       "min         0.020000\n",
       "25%        68.140000\n",
       "50%       116.207500\n",
       "75%       227.346000\n",
       "max      1902.296538\n",
       "Name: AVG_ROI, dtype: float64"
      ]
     },
     "execution_count": 33,
     "metadata": {},
     "output_type": "execute_result"
    }
   ],
   "source": [
    "AVG_ROI_genres['AVG_ROI'].describe()"
   ]
  },
  {
   "cell_type": "markdown",
   "metadata": {},
   "source": [
    "#### Range of budgets of horror related genres in top 25% of ROI\n",
    "\n",
    "$3M - $11M\n",
    "\n"
   ]
  },
  {
   "cell_type": "code",
   "execution_count": 42,
   "metadata": {},
   "outputs": [],
   "source": [
    "AVG_ROI_genres_2 = pd.read_sql(\n",
    "    \"\"\"\n",
    "    WITH gen_ROI_movie_N AS \n",
    "    (\n",
    "    SELECT\n",
    "        genres,\n",
    "        AVG(percentage_ROI_gross_budget) AS AVG_ROI,\n",
    "        COUNT(*) AS movie_N,\n",
    "        AVG(budget) AS AVG_budget\n",
    "    FROM master_1\n",
    "    WHERE percentage_ROI_gross_budget >= 227  -- Filtering Justification : 227 is 75th percentil value of ROI \n",
    "    GROUP BY genres\n",
    "    ORDER BY AVG_ROI DESC\n",
    "    )\n",
    "    SELECT\n",
    "        DENSE_RANK() OVER(ORDER BY AVG_ROI DESC) AS Rank_N,\n",
    "        genres,\n",
    "        AVG_ROI,\n",
    "        movie_N,\n",
    "        AVG_budget\n",
    "    FROM gen_ROI_movie_N\n",
    "    WHERE\n",
    "        genres LIKE '%horror%'\n",
    "        AND movie_N >= 3 -- Filtering Justification : 3 is median value of number of movie for genres \n",
    "    ORDER BY AVG_ROI DESC\n",
    "    LIMIT 7\n",
    "    ;\n",
    "    \"\"\"\n",
    ", conn5\n",
    ")"
   ]
  },
  {
   "cell_type": "code",
   "execution_count": 41,
   "metadata": {},
   "outputs": [
    {
     "data": {
      "text/html": [
       "<div>\n",
       "<style scoped>\n",
       "    .dataframe tbody tr th:only-of-type {\n",
       "        vertical-align: middle;\n",
       "    }\n",
       "\n",
       "    .dataframe tbody tr th {\n",
       "        vertical-align: top;\n",
       "    }\n",
       "\n",
       "    .dataframe thead th {\n",
       "        text-align: right;\n",
       "    }\n",
       "</style>\n",
       "<table border=\"1\" class=\"dataframe\">\n",
       "  <thead>\n",
       "    <tr style=\"text-align: right;\">\n",
       "      <th></th>\n",
       "      <th>Rank_N</th>\n",
       "      <th>genres</th>\n",
       "      <th>AVG_ROI</th>\n",
       "      <th>movie_N</th>\n",
       "      <th>AVG_budget</th>\n",
       "    </tr>\n",
       "  </thead>\n",
       "  <tbody>\n",
       "    <tr>\n",
       "      <th>0</th>\n",
       "      <td>1</td>\n",
       "      <td>horror,mystery,thriller</td>\n",
       "      <td>2318.192857</td>\n",
       "      <td>21</td>\n",
       "      <td>6.814286e+06</td>\n",
       "    </tr>\n",
       "    <tr>\n",
       "      <th>1</th>\n",
       "      <td>2</td>\n",
       "      <td>horror</td>\n",
       "      <td>2234.172500</td>\n",
       "      <td>4</td>\n",
       "      <td>1.150000e+07</td>\n",
       "    </tr>\n",
       "    <tr>\n",
       "      <th>2</th>\n",
       "      <td>3</td>\n",
       "      <td>horror,thriller</td>\n",
       "      <td>1634.200000</td>\n",
       "      <td>7</td>\n",
       "      <td>9.571429e+06</td>\n",
       "    </tr>\n",
       "    <tr>\n",
       "      <th>3</th>\n",
       "      <td>4</td>\n",
       "      <td>drama,horror,thriller</td>\n",
       "      <td>860.345000</td>\n",
       "      <td>4</td>\n",
       "      <td>7.200000e+06</td>\n",
       "    </tr>\n",
       "    <tr>\n",
       "      <th>4</th>\n",
       "      <td>5</td>\n",
       "      <td>action,horror,sci-fi</td>\n",
       "      <td>706.696667</td>\n",
       "      <td>3</td>\n",
       "      <td>1.066667e+07</td>\n",
       "    </tr>\n",
       "    <tr>\n",
       "      <th>5</th>\n",
       "      <td>6</td>\n",
       "      <td>drama,horror,mystery</td>\n",
       "      <td>696.377500</td>\n",
       "      <td>4</td>\n",
       "      <td>6.375000e+06</td>\n",
       "    </tr>\n",
       "    <tr>\n",
       "      <th>6</th>\n",
       "      <td>7</td>\n",
       "      <td>horror,mystery</td>\n",
       "      <td>687.617500</td>\n",
       "      <td>4</td>\n",
       "      <td>3.875000e+06</td>\n",
       "    </tr>\n",
       "  </tbody>\n",
       "</table>\n",
       "</div>"
      ],
      "text/plain": [
       "   Rank_N                   genres      AVG_ROI  movie_N    AVG_budget\n",
       "0       1  horror,mystery,thriller  2318.192857       21  6.814286e+06\n",
       "1       2                   horror  2234.172500        4  1.150000e+07\n",
       "2       3          horror,thriller  1634.200000        7  9.571429e+06\n",
       "3       4    drama,horror,thriller   860.345000        4  7.200000e+06\n",
       "4       5     action,horror,sci-fi   706.696667        3  1.066667e+07\n",
       "5       6     drama,horror,mystery   696.377500        4  6.375000e+06\n",
       "6       7           horror,mystery   687.617500        4  3.875000e+06"
      ]
     },
     "execution_count": 41,
     "metadata": {},
     "output_type": "execute_result"
    }
   ],
   "source": [
    "AVG_ROI_genres_2"
   ]
  },
  {
   "cell_type": "markdown",
   "metadata": {},
   "source": [
    "### Which directors or writers are top ROI achievers in the horror genres?"
   ]
  },
  {
   "cell_type": "code",
   "execution_count": 65,
   "metadata": {},
   "outputs": [],
   "source": [
    "AVG_ROI_people = pd.read_sql(\n",
    "    \"\"\"\n",
    "    WITH gen_ROI_movie_N AS \n",
    "    (\n",
    "    SELECT\n",
    "        primary_name,\n",
    "        primary_profession,\n",
    "        AVG(percentage_ROI_gross_budget) AS AVG_ROI,\n",
    "        COUNT(*) AS movie_N,\n",
    "        AVG(budget) AS AVG_budget,\n",
    "        genres\n",
    "    FROM master_1\n",
    "    GROUP BY primary_name\n",
    "    ORDER BY AVG_ROI DESC\n",
    "    )\n",
    "    SELECT\n",
    "        DENSE_RANK() OVER(ORDER BY AVG_ROI DESC) AS Rank_N,\n",
    "        primary_name,\n",
    "        primary_profession,\n",
    "        AVG_ROI,\n",
    "        movie_N,\n",
    "        AVG_budget,\n",
    "        genres\n",
    "    FROM gen_ROI_movie_N\n",
    "    WHERE\n",
    "        genres LIKE '%horror%'\n",
    "        AND movie_N >= 3 -- Filtering Justification : 3 is median value of number of movie for genres \n",
    "    ORDER BY AVG_ROI DESC\n",
    "    LIMIT 5\n",
    "    ;\n",
    "    \"\"\"\n",
    ", conn5\n",
    ")"
   ]
  },
  {
   "cell_type": "code",
   "execution_count": 48,
   "metadata": {},
   "outputs": [
    {
     "data": {
      "text/html": [
       "<div>\n",
       "<style scoped>\n",
       "    .dataframe tbody tr th:only-of-type {\n",
       "        vertical-align: middle;\n",
       "    }\n",
       "\n",
       "    .dataframe tbody tr th {\n",
       "        vertical-align: top;\n",
       "    }\n",
       "\n",
       "    .dataframe thead th {\n",
       "        text-align: right;\n",
       "    }\n",
       "</style>\n",
       "<table border=\"1\" class=\"dataframe\">\n",
       "  <thead>\n",
       "    <tr style=\"text-align: right;\">\n",
       "      <th></th>\n",
       "      <th>Rank_N</th>\n",
       "      <th>primary_name</th>\n",
       "      <th>primary_profession</th>\n",
       "      <th>AVG_ROI</th>\n",
       "      <th>movie_N</th>\n",
       "      <th>AVG_budget</th>\n",
       "      <th>genres</th>\n",
       "    </tr>\n",
       "  </thead>\n",
       "  <tbody>\n",
       "    <tr>\n",
       "      <th>0</th>\n",
       "      <td>1</td>\n",
       "      <td>Leigh Whannell</td>\n",
       "      <td>actor,writer,producer</td>\n",
       "      <td>1559.100000</td>\n",
       "      <td>3</td>\n",
       "      <td>4.833333e+06</td>\n",
       "      <td>horror,mystery,thriller</td>\n",
       "    </tr>\n",
       "    <tr>\n",
       "      <th>1</th>\n",
       "      <td>2</td>\n",
       "      <td>Christopher Landon</td>\n",
       "      <td>writer,producer,director</td>\n",
       "      <td>1331.526000</td>\n",
       "      <td>5</td>\n",
       "      <td>6.600000e+06</td>\n",
       "      <td>horror</td>\n",
       "    </tr>\n",
       "    <tr>\n",
       "      <th>2</th>\n",
       "      <td>3</td>\n",
       "      <td>James DeMonaco</td>\n",
       "      <td>writer,producer,director</td>\n",
       "      <td>1067.297500</td>\n",
       "      <td>4</td>\n",
       "      <td>8.750000e+06</td>\n",
       "      <td>horror,thriller</td>\n",
       "    </tr>\n",
       "    <tr>\n",
       "      <th>3</th>\n",
       "      <td>4</td>\n",
       "      <td>Andrew Gurland</td>\n",
       "      <td>producer,writer,director</td>\n",
       "      <td>897.003333</td>\n",
       "      <td>3</td>\n",
       "      <td>2.600000e+06</td>\n",
       "      <td>drama,horror,thriller</td>\n",
       "    </tr>\n",
       "    <tr>\n",
       "      <th>4</th>\n",
       "      <td>5</td>\n",
       "      <td>Scott Derrickson</td>\n",
       "      <td>writer,director,producer</td>\n",
       "      <td>673.770000</td>\n",
       "      <td>3</td>\n",
       "      <td>5.933333e+07</td>\n",
       "      <td>horror,mystery,thriller</td>\n",
       "    </tr>\n",
       "  </tbody>\n",
       "</table>\n",
       "</div>"
      ],
      "text/plain": [
       "   Rank_N        primary_name        primary_profession      AVG_ROI  movie_N  \\\n",
       "0       1      Leigh Whannell     actor,writer,producer  1559.100000        3   \n",
       "1       2  Christopher Landon  writer,producer,director  1331.526000        5   \n",
       "2       3      James DeMonaco  writer,producer,director  1067.297500        4   \n",
       "3       4      Andrew Gurland  producer,writer,director   897.003333        3   \n",
       "4       5    Scott Derrickson  writer,director,producer   673.770000        3   \n",
       "\n",
       "     AVG_budget                   genres  \n",
       "0  4.833333e+06  horror,mystery,thriller  \n",
       "1  6.600000e+06                   horror  \n",
       "2  8.750000e+06          horror,thriller  \n",
       "3  2.600000e+06    drama,horror,thriller  \n",
       "4  5.933333e+07  horror,mystery,thriller  "
      ]
     },
     "execution_count": 48,
     "metadata": {},
     "output_type": "execute_result"
    }
   ],
   "source": [
    "AVG_ROI_people"
   ]
  },
  {
   "cell_type": "markdown",
   "metadata": {},
   "source": [
    "## Analysis by Kari"
   ]
  },
  {
   "cell_type": "code",
   "execution_count": 49,
   "metadata": {},
   "outputs": [],
   "source": [
    "# Reading a csv file to a dataframe\n",
    "master_final_df = pd.read_csv('zippedData/master_dedup_v2.csv')"
   ]
  },
  {
   "cell_type": "markdown",
   "metadata": {},
   "source": [
    "### Two Sample T-Test: One-tailed\n",
    "\n",
    "**Null Hypothesis:** The mean ROI of horror movies is less than or equal to that of non-horror movies.\n",
    "\n",
    "**Alternative Hypothesis:** The mean ROI of horror movies is greater than that of non-horror movies.\n"
   ]
  },
  {
   "cell_type": "markdown",
   "metadata": {},
   "source": [
    "#### Create Sample Groups"
   ]
  },
  {
   "cell_type": "code",
   "execution_count": null,
   "metadata": {},
   "outputs": [
    {
     "name": "stdout",
     "output_type": "stream",
     "text": [
      "<class 'pandas.core.frame.DataFrame'>\n",
      "Index: 150 entries, 11 to 1275\n",
      "Data columns (total 15 columns):\n",
      " #   Column                       Non-Null Count  Dtype  \n",
      "---  ------                       --------------  -----  \n",
      " 0   movie_name                   150 non-null    object \n",
      " 1   genres                       150 non-null    object \n",
      " 2   percentage_ROI_gross_budget  150 non-null    float64\n",
      " 3   gross                        150 non-null    float64\n",
      " 4   budget                       150 non-null    float64\n",
      " 5   opening_weekend_boxoffice    150 non-null    float64\n",
      " 6   average_rating               150 non-null    float64\n",
      " 7   number_vote                  150 non-null    float64\n",
      " 8   primary_name                 150 non-null    object \n",
      " 9   primary_profession           150 non-null    object \n",
      " 10  release_date                 150 non-null    object \n",
      " 11  release_year                 150 non-null    int64  \n",
      " 12  runtime_minutes              150 non-null    float64\n",
      " 13  distributor                  150 non-null    object \n",
      " 14  max_theatre_count            150 non-null    object \n",
      "dtypes: float64(7), int64(1), object(7)\n",
      "memory usage: 18.8+ KB\n"
     ]
    }
   ],
   "source": [
    "# Split data into two groups (samples)\n",
    "horror_movies = master_final_df[master_final_df['genres'].str.contains('horror', case=False, regex=True)]\n",
    "non_horror_movies = master_final_df[~master_final_df['genres'].str.contains('horror', case=False, regex=True)]\n",
    "\n",
    "# Sanity check\n",
    "horror_movies.info()"
   ]
  },
  {
   "cell_type": "code",
   "execution_count": null,
   "metadata": {},
   "outputs": [
    {
     "name": "stdout",
     "output_type": "stream",
     "text": [
      "<class 'pandas.core.frame.DataFrame'>\n",
      "Index: 1140 entries, 0 to 1289\n",
      "Data columns (total 15 columns):\n",
      " #   Column                       Non-Null Count  Dtype  \n",
      "---  ------                       --------------  -----  \n",
      " 0   movie_name                   1140 non-null   object \n",
      " 1   genres                       1140 non-null   object \n",
      " 2   percentage_ROI_gross_budget  1140 non-null   float64\n",
      " 3   gross                        1140 non-null   float64\n",
      " 4   budget                       1140 non-null   float64\n",
      " 5   opening_weekend_boxoffice    1140 non-null   float64\n",
      " 6   average_rating               1140 non-null   float64\n",
      " 7   number_vote                  1140 non-null   float64\n",
      " 8   primary_name                 1140 non-null   object \n",
      " 9   primary_profession           1140 non-null   object \n",
      " 10  release_date                 1140 non-null   object \n",
      " 11  release_year                 1140 non-null   int64  \n",
      " 12  runtime_minutes              1140 non-null   float64\n",
      " 13  distributor                  1140 non-null   object \n",
      " 14  max_theatre_count            1140 non-null   object \n",
      "dtypes: float64(7), int64(1), object(7)\n",
      "memory usage: 142.5+ KB\n"
     ]
    }
   ],
   "source": [
    "# Sanity check\n",
    "non_horror_movies.info()"
   ]
  },
  {
   "cell_type": "markdown",
   "metadata": {},
   "source": [
    "#### Interpretation of Two-Sample T-Test (One-Tailed)\n",
    "\n",
    "The result of this analysis indicates that there is a 95% chance that the mean ROI of horror movies is significantly greater than the mean ROI of non-horror movies. \n"
   ]
  },
  {
   "cell_type": "code",
   "execution_count": null,
   "metadata": {},
   "outputs": [
    {
     "name": "stdout",
     "output_type": "stream",
     "text": [
      "T-statistic: 2.890674145719811\n",
      "P-value: 0.004417071508529201\n",
      "Result: Reject the null hypothesis\n"
     ]
    }
   ],
   "source": [
    "# Set the significance level\n",
    "alpha = 0.05\n",
    "\n",
    "# Perform a two-sample t-test to compare the mean 'ROI' of horror and non-horror movies\n",
    "t_statistic, p_value = stats.ttest_ind(horror_movies['percentage_ROI_gross_budget'], non_horror_movies['percentage_ROI_gross_budget'], equal_var=False)\n",
    "\n",
    "\n",
    "# Determine whether to reject the null\n",
    "if p_value < alpha and t_statistic < 0:  \n",
    "    result = 'Reject the null hypothesis'\n",
    "    \n",
    "elif p_value < alpha and t_statistic > 0:  \n",
    "    result = 'Reject the null hypothesis'\n",
    "else:\n",
    "    result = 'Fail to reject the null hypothesis'\n",
    "\n",
    "\n",
    "# Display the results\n",
    "print(f'T-statistic: {t_statistic}')\n",
    "print(f'P-value: {p_value}')\n",
    "print(f'Result: {result}')\n"
   ]
  },
  {
   "cell_type": "markdown",
   "metadata": {},
   "source": [
    "#### Power Analysis of Two-Sample T-Test"
   ]
  },
  {
   "cell_type": "code",
   "execution_count": null,
   "metadata": {},
   "outputs": [
    {
     "data": {
      "text/plain": [
       "0.2362376885444173"
      ]
     },
     "metadata": {},
     "output_type": "display_data"
    }
   ],
   "source": [
    "# Determine effect size using Cohen's d for a two-sample test\n",
    "\n",
    "horror_mean =  horror_movies['percentage_ROI_gross_budget'].mean()\n",
    "non_horror_mean =  non_horror_movies['percentage_ROI_gross_budget'].mean()\n",
    "horror_std =   horror_movies['percentage_ROI_gross_budget'].std()\n",
    "non_horror_std =   horror_movies['percentage_ROI_gross_budget'].std()\n",
    "\n",
    "horror_sample = 150\n",
    "non_horror_sample = 1140\n",
    "\n",
    "# Calculate pooled standard deviation\n",
    "pooled_std = np.sqrt(((horror_sample - 1) * horror_std**2 + (non_horror_sample - 1) * non_horror_std**2) / (horror_sample + non_horror_sample - 2))\n",
    "\n",
    "# Calculate Cohen's d\n",
    "effect_sizes = (horror_mean - non_horror_mean) / pooled_std\n",
    "\n",
    "effect_sizes\n"
   ]
  },
  {
   "cell_type": "code",
   "execution_count": null,
   "metadata": {},
   "outputs": [
    {
     "name": "stdout",
     "output_type": "stream",
     "text": [
      "Statistical Power: 0.7757482834707635\n"
     ]
    }
   ],
   "source": [
    "# Set the parameters for the power analysis\n",
    "effect_size = .236238  # Set effect_size according to Cohen's d calculation\n",
    "alpha = 0.05  # Set significance level\n",
    "alternative = 'two-sided'\n",
    "\n",
    "# Perform the power analysis with given sample sizes\n",
    "analysis = smp.TTestIndPower()\n",
    "result = analysis.solve_power(effect_size=effect_size, alpha=alpha, nobs1=horror_sample, ratio=non_horror_sample/horror_sample, alternative=alternative)\n",
    "\n",
    "print(f'Statistical Power: {result}')\n"
   ]
  },
  {
   "cell_type": "markdown",
   "metadata": {},
   "source": [
    "##### Interpretation of Power Analysis\n",
    "\n",
    "A statistical power of 0.7757 means that there is a 77.57% chance that if there is a real difference or effect between the horror ROI and non_horror ROI, our test will detect it. This is a reasonably good statistical power and we are slightly reducing the risk of a Type II error (false-negative)."
   ]
  },
  {
   "cell_type": "markdown",
   "metadata": {},
   "source": [
    "### Linear Regression Model: budget & gross (revenue)\n",
    "\n",
    "#### Independent Variable\n",
    "\n",
    "**Null Hypothesis:** The variable has no effect on revenue, and the coefficient is equal to zero.\n",
    "\n",
    "**Alternative Hypothesis:** The variable has an effect on revenue, and the coefficient is not equal to zero.\n",
    "\n",
    "\n",
    "#### Dependent Variable\n",
    "\n",
    "**Null Hypothesis:** The intercept represents a baseline revenue when the independent variable is zero.\n",
    "\n",
    "**Alternative Hypothesis:** The intercept does not represent a meaningful baseline revenue when the independent variable is zero."
   ]
  },
  {
   "cell_type": "code",
   "execution_count": null,
   "metadata": {},
   "outputs": [
    {
     "data": {
      "image/png": "[encoded data removed]",
      "text/plain": [
       "<Figure size 640x480 with 1 Axes>"
      ]
     },
     "metadata": {},
     "output_type": "display_data"
    },
    {
     "name": "stdout",
     "output_type": "stream",
     "text": [
      "                            OLS Regression Results                            \n",
      "==============================================================================\n",
      "Dep. Variable:                  gross   R-squared:                       0.179\n",
      "Model:                            OLS   Adj. R-squared:                  0.174\n",
      "Method:                 Least Squares   F-statistic:                     32.29\n",
      "Date:                Sat, 28 Oct 2023   Prob (F-statistic):           6.83e-08\n",
      "Time:                        11:28:46   Log-Likelihood:                -2843.0\n",
      "No. Observations:                 150   AIC:                             5690.\n",
      "Df Residuals:                     148   BIC:                             5696.\n",
      "Df Model:                           1                                         \n",
      "Covariance Type:            nonrobust                                         \n",
      "==============================================================================\n",
      "                 coef    std err          t      P>|t|      [0.025      0.975]\n",
      "------------------------------------------------------------------------------\n",
      "const       2.456e+07   4.07e+06      6.039      0.000    1.65e+07    3.26e+07\n",
      "budget         0.6167      0.109      5.682      0.000       0.402       0.831\n",
      "==============================================================================\n",
      "Omnibus:                      132.231   Durbin-Watson:                   1.876\n",
      "Prob(Omnibus):                  0.000   Jarque-Bera (JB):             1701.963\n",
      "Skew:                           3.180   Prob(JB):                         0.00\n",
      "Kurtosis:                      18.227   Cond. No.                     4.50e+07\n",
      "==============================================================================\n",
      "\n",
      "Notes:\n",
      "[1] Standard Errors assume that the covariance matrix of the errors is correctly specified.\n",
      "[2] The condition number is large, 4.5e+07. This might indicate that there are\n",
      "strong multicollinearity or other numerical problems.\n"
     ]
    }
   ],
   "source": [
    "# Add constant intercept to variables\n",
    "X = sm.add_constant(horror_movies[['budget']])\n",
    "\n",
    "# Dependent variable\n",
    "y = horror_movies['gross']\n",
    "\n",
    "# Apply fit test to model\n",
    "model = sm.OLS(y, X).fit()\n",
    "\n",
    "# Predicted values from model\n",
    "predicted_values = model.predict(X)\n",
    "\n",
    "# Create a scatter plot of observed vs. predicted ROI values\n",
    "plt.scatter(y, predicted_values)\n",
    "plt.xlabel('Observed Revenue')\n",
    "plt.ylabel('Predicted Revenue')\n",
    "plt.title('Observed vs. Predicted Revenue')\n",
    "plt.grid(True)\n",
    "\n",
    "# Calculate the minimum and maximum 'gross' values\n",
    "min_gross = min(y)\n",
    "max_gross = max(y)\n",
    "\n",
    "# Create x values for the trendline (from min to max 'gross')\n",
    "x_trendline = np.linspace(min_gross, max_gross, 100)\n",
    "\n",
    "# Calculate corresponding predicted values for the trendline\n",
    "y_trendline = model.predict(sm.add_constant(x_trendline))\n",
    "\n",
    "# Add a regression line\n",
    "plt.plot(x_trendline, y_trendline, color='red', linewidth=2, label='Trendline')\n",
    "\n",
    "\n",
    "plt.show()\n",
    "\n",
    "\n",
    "# Regression summary\n",
    "print(model.summary())\n"
   ]
  },
  {
   "cell_type": "markdown",
   "metadata": {},
   "source": [
    "#### Interpretation\n",
    "\n",
    "The low R-squared value suggests that budget explains only a small portion (17.9%) of the variance in revenue for horror movies.\n",
    "\n",
    "However, the results indicate that horror movie budgets are a statistically significant predictor of horror movie revenue because of its low p-value for the F-statistic and coefficient. \n",
    "\n",
    "Therefore, although budget is statistically significant in this model, there are other variables that can influence horror movie revenue."
   ]
  },
  {
   "cell_type": "markdown",
   "metadata": {},
   "source": [
    "### Multiple Linear Regression Model : budget, number_vote, average_rating for ROI\n",
    "\n",
    "#### Independent Variables\n",
    "\n",
    "**Null Hypothesis:** The variables have no effect on ROI, and their coefficients are equal to zero.\n",
    "\n",
    "**Alternative Hypothesis:** The variables have an effect on ROI, and their coefficients are not equal to zero.\n",
    "\n",
    "\n",
    "#### Dependent Variable\n",
    "\n",
    "**Null Hypothesis:** The intercept represents a baseline ROI when all independent variables are zero.\n",
    "\n",
    "**Alternative Hypothesis:** The intercept does not represent a meaningful baseline ROI when all independent variables are zero.\n"
   ]
  },
  {
   "cell_type": "code",
   "execution_count": null,
   "metadata": {},
   "outputs": [
    {
     "data": {
      "image/png": "[encoded data removed]",
      "text/plain": [
       "<Figure size 640x480 with 1 Axes>"
      ]
     },
     "metadata": {},
     "output_type": "display_data"
    },
    {
     "name": "stdout",
     "output_type": "stream",
     "text": [
      "                                 OLS Regression Results                                \n",
      "=======================================================================================\n",
      "Dep. Variable:     percentage_ROI_gross_budget   R-squared:                       0.020\n",
      "Model:                                     OLS   Adj. R-squared:                  0.018\n",
      "Method:                          Least Squares   F-statistic:                     8.800\n",
      "Date:                         Sat, 28 Oct 2023   Prob (F-statistic):           8.90e-06\n",
      "Time:                                 11:28:46   Log-Likelihood:                -10336.\n",
      "No. Observations:                         1290   AIC:                         2.068e+04\n",
      "Df Residuals:                             1286   BIC:                         2.070e+04\n",
      "Df Model:                                    3                                         \n",
      "Covariance Type:                     nonrobust                                         \n",
      "==================================================================================\n",
      "                     coef    std err          t      P>|t|      [0.025      0.975]\n",
      "----------------------------------------------------------------------------------\n",
      "const            518.0879    158.837      3.262      0.001     206.479     829.697\n",
      "budget         -2.149e-06   4.25e-07     -5.053      0.000   -2.98e-06   -1.31e-06\n",
      "average_rating   -40.4217     25.925     -1.559      0.119     -91.282      10.439\n",
      "number_vote        0.0010      0.000      3.244      0.001       0.000       0.002\n",
      "==============================================================================\n",
      "Omnibus:                     3102.785   Durbin-Watson:                   1.926\n",
      "Prob(Omnibus):                  0.000   Jarque-Bera (JB):         25716739.535\n",
      "Skew:                          23.305   Prob(JB):                         0.00\n",
      "Kurtosis:                     693.129   Cond. No.                     5.87e+08\n",
      "==============================================================================\n",
      "\n",
      "Notes:\n",
      "[1] Standard Errors assume that the covariance matrix of the errors is correctly specified.\n",
      "[2] The condition number is large, 5.87e+08. This might indicate that there are\n",
      "strong multicollinearity or other numerical problems.\n"
     ]
    }
   ],
   "source": [
    "# Add constant intercept to variables\n",
    "X = sm.add_constant(master_final_df[['budget', 'average_rating', 'number_vote']])\n",
    "\n",
    "# Dependent variable\n",
    "y = master_final_df['percentage_ROI_gross_budget']\n",
    "\n",
    "# Apply fit test to model\n",
    "model = sm.OLS(y, X).fit()\n",
    "\n",
    "# Predicted values from model\n",
    "predicted_values = model.predict(X)\n",
    "\n",
    "# Create a scatter plot of observed vs. predicted ROI values\n",
    "plt.scatter(y, predicted_values)\n",
    "plt.xlabel('Observed ROI')\n",
    "plt.ylabel('Predicted ROI')\n",
    "plt.title('Observed vs. Predicted ROI')\n",
    "plt.grid(True)\n",
    "plt.show()\n",
    "\n",
    "\n",
    "# Regression summary\n",
    "print(model.summary())\n"
   ]
  },
  {
   "cell_type": "markdown",
   "metadata": {},
   "source": [
    "#### Interpretation\n",
    "\n",
    "The low R-squared value suggests that this model may not be a good fit for explaining ROI. Additional factors or variables may be needed to improve its performance.\n",
    "\n",
    "However, the results indicate that 'budget' and 'number_vote' are statistically significant predictors of ROI because they have very low p-values, while 'average_rating' may not be relevant in explaining variations in ROI."
   ]
  },
  {
   "cell_type": "markdown",
   "metadata": {},
   "source": [
    "### Multiple Linear Regression Model: budget, genres, primary_name"
   ]
  },
  {
   "cell_type": "code",
   "execution_count": null,
   "metadata": {},
   "outputs": [
    {
     "name": "stdout",
     "output_type": "stream",
     "text": [
      "<class 'pandas.core.frame.DataFrame'>\n",
      "RangeIndex: 1290 entries, 0 to 1289\n",
      "Data columns (total 17 columns):\n",
      " #   Column                       Non-Null Count  Dtype  \n",
      "---  ------                       --------------  -----  \n",
      " 0   movie_name                   1290 non-null   object \n",
      " 1   genres                       1290 non-null   object \n",
      " 2   percentage_ROI_gross_budget  1290 non-null   float64\n",
      " 3   gross                        1290 non-null   float64\n",
      " 4   budget                       1290 non-null   float64\n",
      " 5   opening_weekend_boxoffice    1290 non-null   float64\n",
      " 6   average_rating               1290 non-null   float64\n",
      " 7   number_vote                  1290 non-null   float64\n",
      " 8   primary_name                 1290 non-null   object \n",
      " 9   primary_profession           1290 non-null   object \n",
      " 10  release_date                 1290 non-null   object \n",
      " 11  release_year                 1290 non-null   int64  \n",
      " 12  runtime_minutes              1290 non-null   float64\n",
      " 13  distributor                  1290 non-null   object \n",
      " 14  max_theatre_count            1290 non-null   object \n",
      " 15  genres_encoded               1290 non-null   int64  \n",
      " 16  primary_name_encoded         1290 non-null   int64  \n",
      "dtypes: float64(7), int64(3), object(7)\n",
      "memory usage: 171.5+ KB\n"
     ]
    }
   ],
   "source": [
    "from sklearn.preprocessing import LabelEncoder\n",
    "\n",
    "# Create separate LabelEncoder instances for 'Genre' and 'Director'\n",
    "label_encoder_genres = LabelEncoder()\n",
    "label_encoder_primary_name = LabelEncoder()\n",
    "\n",
    "# Apply label encoding to 'Genre' column\n",
    "master_final_df['genres_encoded'] = label_encoder_genres.fit_transform(master_final_df['genres'])\n",
    "\n",
    "# Apply label encoding to 'Director' column\n",
    "master_final_df['primary_name_encoded'] = label_encoder_primary_name.fit_transform(master_final_df['primary_name'])\n",
    "\n",
    "# Resulting DataFrame with label encoding for both columns\n",
    "master_final_df.info()\n"
   ]
  },
  {
   "cell_type": "code",
   "execution_count": null,
   "metadata": {},
   "outputs": [
    {
     "name": "stdout",
     "output_type": "stream",
     "text": [
      "Mean Squared Error: 4065359596403251.50"
     ]
    },
    {
     "name": "stdout",
     "output_type": "stream",
     "text": [
      "\n",
      "R-squared: 0.42\n"
     ]
    },
    {
     "data": {
      "image/png": "[encoded data removed]",
      "text/plain": [
       "<Figure size 640x480 with 1 Axes>"
      ]
     },
     "metadata": {},
     "output_type": "display_data"
    }
   ],
   "source": [
    "from sklearn.model_selection import train_test_split\n",
    "from sklearn.linear_model import LinearRegression\n",
    "from sklearn.metrics import mean_squared_error, r2_score\n",
    "import matplotlib.pyplot as plt\n",
    "\n",
    "# Load and preprocess the dataset (replace 'df' with your dataset)\n",
    "# Ensure that 'budget' and 'revenue' are numerical columns.\n",
    "# Encode categorical variables like genres and directors.\n",
    "\n",
    "# Split the data into training and testing sets\n",
    "x = master_final_df[['budget', 'genres_encoded', 'primary_name_encoded']]  # Features\n",
    "y = master_final_df['gross']  # Target variable\n",
    "x_train, x_test, y_train, y_test = train_test_split(x, y, test_size=0.2, random_state=42)\n",
    "\n",
    "# Create and train a linear regression model\n",
    "model = LinearRegression()\n",
    "model.fit(x_train, y_train)\n",
    "\n",
    "# Make predictions on the test set\n",
    "y_pred = model.predict(x_test)\n",
    "\n",
    "# Evaluate the model\n",
    "mae = mean_squared_error(y_test, y_pred)\n",
    "r_squared = r2_score(y_test, y_pred)\n",
    "print(f\"Mean Squared Error: {mae:.2f}\")\n",
    "print(f\"R-squared: {r_squared:.2f}\")\n",
    "\n",
    "# Visualize predictions vs. actual values\n",
    "plt.scatter(y_test, y_pred)\n",
    "plt.xlabel(\"Actual Revenue\")\n",
    "plt.ylabel(\"Predicted Revenue\")\n",
    "plt.title(\"Actual vs. Predicted Revenue\")\n",
    "plt.show()"
   ]
  },
  {
   "cell_type": "markdown",
   "metadata": {},
   "source": [
    "# Conclusions"
   ]
  },
  {
   "cell_type": "markdown",
   "metadata": {},
   "source": [
    "## Key Findings\n",
    "\n",
    "**Profitable Genres:**\n",
    "In a dataset featuring 205 specific movie genres, our analysis focused on genres with at least six movies to assess Return on Investment (ROI). Notably, horror-related genres emerged as the top performers, boasting an impressive average ROI of 942%. This ROI percentage was calculated by dividing gross earnings by the budget and multiplying the result by 100.\n",
    "\n",
    "**Optimal Budget Range:**\n",
    "For horror-related genres, the ideal budget range to achieve the 25th percentile ROI fell between $3 million and $11 million.\n",
    "\n",
    "**Director and Writer Recommendations:**\n",
    "We recommend Christopher Landon, an exemplary talent in the horror genre, who has excelled as a writer, producer, and director within the domestic market.\n",
    "\n",
    "**Statistical Significance:**\n",
    "A two-sample t-test provided a 95% confidence that the mean ROI of horror movies significantly outperformed that of non-horror movies, supported by a low p-value of 0.0044. Additionally, the power analysis demonstrated a robust statistical power of 77.57%.\n",
    "\n",
    "**Budget and Revenue Relationship:**\n",
    "While a linear regression model indicated that budget explains only a modest portion (17.9%) of the revenue variance for horror movies, it remained a statistically significant predictor. This was evident from its low p-value and coefficient for the F-statistic. This underscores the significant role of budget, though it also suggests the presence of other contributing variables.\n",
    "\n",
    "**Multiple Regression Model:**\n",
    "In our attempt to employ a multiple regression model that incorporated budget, the number of votes, and average rating, we found that the R-squared value was relatively low. However, our analysis identified 'budget' and 'number of votes' as statistically significant predictors of ROI due to their exceptionally low p-values. In contrast, 'average rating' appeared to have less relevance in explaining variations in ROI."
   ]
  },
  {
   "cell_type": "markdown",
   "metadata": {},
   "source": [
    "The \"Jelly Movie Studio Project\" has successfully unveiled invaluable insights for guiding the strategic decisions of Jelly Movie Studio. It emphasized the prominence of horror-related genres, budget considerations, and the endorsement of talents like Christopher Landon. While budget emerged as a critical predictor, the intricate nature of the film industry implies the involvement of multifaceted factors influencing ROI. This holistic analysis lays a robust foundation for informed decision-making within the dynamic world of cinema."
   ]
  },
  {
   "cell_type": "markdown",
   "metadata": {},
   "source": [
    "# Next steps"
   ]
  },
  {
   "cell_type": "markdown",
   "metadata": {},
   "source": []
  }
 ],
 "metadata": {
  "kernelspec": {
   "display_name": "Python (learn-env)",
   "language": "python",
   "name": "learn-env"
  },
  "language_info": {
   "codemirror_mode": {
    "name": "ipython",
    "version": 3
   },
   "file_extension": ".py",
   "mimetype": "text/x-python",
   "name": "python",
   "nbconvert_exporter": "python",
   "pygments_lexer": "ipython3",
   "version": "3.9.18"
  },
  "orig_nbformat": 4
 },
 "nbformat": 4,
 "nbformat_minor": 2
}
